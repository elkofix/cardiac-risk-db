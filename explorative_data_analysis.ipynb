{
  "nbformat": 4,
  "nbformat_minor": 0,
  "metadata": {
    "colab": {
      "provenance": []
    },
    "kernelspec": {
      "name": "python3",
      "display_name": "Python 3"
    },
    "language_info": {
      "name": "python"
    }
  },
  "cells": [
    {
      "cell_type": "markdown",
      "source": [
        "## Analisis exploratorio de datos sobre riesgo cardiaco\n",
        "\n",
        "#### Materia de análisis exploratorio de datos I de la maestria en ciencia de datos\n",
        "\n",
        "Autor correspondiente: Alejandro Cordoba Erazo | alejitocordoba@hotmail.es\n",
        "\n",
        "> **Abstract:**\n",
        ">\n",
        "> Las enfermedades cardiovasculares representan la principal causa de mortalidad global y requieren estrategias de prevención basadas en la identificación temprana de factores de riesgo. Este estudio tiene como objetivo explorar la relación entre variables clínicas (índice de masa corporal, peso, talla y presión arterial) y demográficas (edad, sexo y etnia) con la clasificación de riesgo cardiovascular (alto, moderado, bajo y muy alto) en pacientes de las comunas 13, 14, 15 y 21 de Cali atendidos en la Empresa Social del Estado (ESE) Oriente entre agosto de 2019 y marzo de 2023. Para ello, se realizará un análisis exploratorio de datos que incluye aproximaciones univariadas y bivariadas, seguido de la preparación de datos para un análisis inferencial. La pregunta central es determinar si, en los próximos 10 días, es posible establecer con al menos un 80% de certeza estadística la existencia de asociaciones significativas entre estas variables y el riesgo cardiovascular. Con este análisis se espera aportar evidencia epidemiológica relevante para orientar estrategias de prevención y control adaptadas al contexto local."
      ],
      "metadata": {
        "id": "t3rd-Q2MbN0L"
      }
    },
    {
      "cell_type": "markdown",
      "source": [
        "### Introducción\n",
        "\n",
        "La visualización de datos es la representación de información a través de imágenes o gráficos que facilitan a los responsables la comprensión visual y el descubrimiento de patrones ocultos. La interpretación de datos complejos y de gran volumen es más accesible para el ser humano mediante gráficos en comparación con formatos tabulares o textuales. En la era digital, las conclusiones clave para la toma de decisiones en organizaciones a menudo se derivan del Análisis Exploratorio de Datos (EDA). El EDA es una técnica para estudiar conjuntos de datos con el fin de reconocer su estructura subyacente, identificar patrones y correlaciones entre variables, y ayudar a confirmar hipótesis.\n",
        "Las enfermedades cardiovasculares representan la principal causa de mortalidad a nivel mundial, lo que exige la implementación de estrategias de prevención fundamentadas en la identificación temprana de factores de riesgo. Este estudio se enfoca en la población de las comunas 13, 14, 15 y 21 de Cali, atendida por la ESE Oriente entre 2019 y 2023, con el objetivo de comprender los factores que inciden en su salud cardiovascular.\n",
        "En esta investigación, se procesarán y visualizarán los datos clínicos y demográficos de los pacientes para explorar la relación entre variables como el índice de masa corporal, la presión arterial, la edad y el sexo con la clasificación de riesgo cardiovascular (bajo, moderado, alto y muy alto). Mediante un análisis univariado y bivariado, se examinarán las características de las variables y las relaciones entre ellas. Los resultados de este EDA servirán como base para una posterior preparación de datos y análisis inferencial, buscando aportar evidencia epidemiológica que permita orientar estrategias de prevención y control adaptadas al contexto local."
      ],
      "metadata": {
        "id": "4UhYWhX7QERe"
      }
    },
    {
      "cell_type": "markdown",
      "source": [
        "### Metodologia\n",
        "\n",
        "La metodología de la investigación sigue cuatro pasos, a saber: identificación de variables, análisis de datos univariado, análisis de datos bivariado y preparación de los datos.\n",
        "\n",
        "![Ilustración de la metodologia](https://github.com/elkofix/cardiac-risk-db/blob/master/images/metodology.png?raw=1)\n",
        "\n",
        "**Identificación de variables:** este es un paso esencial para distinguir y comprender claramente el significado de cada variable en un conjunto de datos antes de analizar los datos. Los conjuntos de datos comúnmente tienen variables numéricas o nominales. Una característica esencial de los datos numéricos es que podemos aplicarles muchas operaciones matemáticas. A una variable nominal, categórica o de factor no se le pueden aplicar operaciones matemáticas.\n",
        "Análisis de datos univariado: el objetivo del análisis univariado es obtener una mejor comprensión de cada atributo. En este paso, analizamos cada atributo para entender cómo se ve cada uno. Se utilizan paquetes de visualización para graficar los datos.\n",
        "\n",
        "**Análisis de datos bivariado:** el objetivo del análisis bivariado es analizar las relaciones entre dos atributos. En este paso, comparamos dos atributos para analizar la correlación entre ellos. Se utilizan paquetes de visualización para graficar los datos.\n",
        "\n",
        "**Preparación de los datos:** este es el paso final del proceso de EDA. Este proceso realiza la limpieza de datos, la imputación de valores faltantes, el manejo de datos atípicos y la reducción de datos. El objetivo es preparar un conjunto de datos consolidado para el análisis inferencial posterior."
      ],
      "metadata": {
        "id": "9eq6-g2FUq3O"
      }
    },
    {
      "cell_type": "markdown",
      "source": [
        "### Identificación de las variables"
      ],
      "metadata": {
        "id": "ScD8DeJUVzIB"
      }
    },
    {
      "cell_type": "code",
      "source": [
        "def obtener_atipicos(columna):\n",
        "    Q1 = columna.quantile(0.25)\n",
        "    Q3 = columna.quantile(0.75)\n",
        "    IQR = Q3 - Q1\n",
        "    atipicos = columna[(columna < Q1 - 1.5*IQR) | (columna > Q3 + 1.5*IQR)]\n",
        "    return atipicos.index  # Retorna índices"
      ],
      "metadata": {
        "id": "9s6AyUAVlo4V"
      },
      "execution_count": 130,
      "outputs": []
    },
    {
      "cell_type": "code",
      "execution_count": 101,
      "metadata": {
        "id": "JaNiZvG29Cnp"
      },
      "outputs": [],
      "source": [
        "import pandas as pd\n",
        "\n",
        "df = pd.read_csv(\"https://media.githubusercontent.com/media/elkofix/cardiac-risk-db/refs/heads/master/completa.csv\", sep=',')"
      ]
    },
    {
      "cell_type": "code",
      "source": [
        "df.shape"
      ],
      "metadata": {
        "colab": {
          "base_uri": "https://localhost:8080/"
        },
        "id": "zL3PwYzP9OwW",
        "outputId": "bd236111-b8d1-4d6f-b507-b108089f159c"
      },
      "execution_count": 102,
      "outputs": [
        {
          "output_type": "execute_result",
          "data": {
            "text/plain": [
              "(2782908, 29)"
            ]
          },
          "metadata": {},
          "execution_count": 102
        }
      ]
    },
    {
      "cell_type": "code",
      "source": [
        "df.head()"
      ],
      "metadata": {
        "colab": {
          "base_uri": "https://localhost:8080/",
          "height": 0
        },
        "id": "KTDwACosDl5G",
        "outputId": "4dde7548-fba3-4da9-e31b-1ae8a57c375f"
      },
      "execution_count": 81,
      "outputs": [
        {
          "output_type": "execute_result",
          "data": {
            "text/plain": [
              "   11_CodEtnia_Indigena  11_CodEtnia_Negro  11_CodEtnia_Otro  \\\n",
              "0                   0.0                0.0               1.0   \n",
              "1                   0.0                0.0               1.0   \n",
              "2                   0.0                0.0               1.0   \n",
              "3                   0.0                0.0               1.0   \n",
              "4                   0.0                0.0               1.0   \n",
              "\n",
              "   11_CodEtnia_Palenquero de San Basilio  11_CodEtnia_ROM (Gitano)  \\\n",
              "0                                    0.0                       0.0   \n",
              "1                                    0.0                       0.0   \n",
              "2                                    0.0                       0.0   \n",
              "3                                    0.0                       0.0   \n",
              "4                                    0.0                       0.0   \n",
              "\n",
              "   11_CodEtnia_Raizal  ENDOSALUD_SI  \\\n",
              "0                 0.0           0.0   \n",
              "1                 0.0           1.0   \n",
              "2                 0.0           0.0   \n",
              "3                 0.0           0.0   \n",
              "4                 0.0           0.0   \n",
              "\n",
              "   Indice Masa Corporal = Peso/talla Al Cuadrado  24_Talla  23_Peso  ...  \\\n",
              "0                                      26.892323     167.0     75.0  ...   \n",
              "1                                      31.250000     160.0     80.0  ...   \n",
              "2                                      24.690405     161.0     64.0  ...   \n",
              "3                                      25.000000     160.0     64.0  ...   \n",
              "4                                      23.437500     160.0     60.0  ...   \n",
              "\n",
              "   9_Regimen_SUBSIDIADO  18_DxHTA_SI  18_DxHTA_NO  22_EtiologiaERC_HTA  \\\n",
              "0                     1            1            0                    1   \n",
              "1                     1            1            0                    1   \n",
              "2                     1            1            0                    1   \n",
              "3                     0            1            0                    0   \n",
              "4                     1            0            1                    0   \n",
              "\n",
              "   22_EtiologiaERC_DM  CLASIFICACION FINAL DEL RIESGO_ALTO  \\\n",
              "0                   0                                    0   \n",
              "1                   0                                    0   \n",
              "2                   0                                    0   \n",
              "3                   0                                    1   \n",
              "4                   1                                    1   \n",
              "\n",
              "   CLASIFICACION FINAL DEL RIESGO_BAJO  \\\n",
              "0                                    1   \n",
              "1                                    0   \n",
              "2                                    0   \n",
              "3                                    0   \n",
              "4                                    0   \n",
              "\n",
              "   CLASIFICACION FINAL DEL RIESGO_MODERADO  20_DxDM_SI  \\\n",
              "0                                        0           0   \n",
              "1                                        1           0   \n",
              "2                                        1           0   \n",
              "3                                        0           1   \n",
              "4                                        0           1   \n",
              "\n",
              "   CLASIFICACION FINAL DEL RIESGO_MUY ALTO  \n",
              "0                                        0  \n",
              "1                                        0  \n",
              "2                                        0  \n",
              "3                                        0  \n",
              "4                                        0  \n",
              "\n",
              "[5 rows x 29 columns]"
            ],
            "text/html": [
              "\n",
              "  <div id=\"df-41a4d9b1-34da-46f2-89bc-a75a1c17bf98\" class=\"colab-df-container\">\n",
              "    <div>\n",
              "<style scoped>\n",
              "    .dataframe tbody tr th:only-of-type {\n",
              "        vertical-align: middle;\n",
              "    }\n",
              "\n",
              "    .dataframe tbody tr th {\n",
              "        vertical-align: top;\n",
              "    }\n",
              "\n",
              "    .dataframe thead th {\n",
              "        text-align: right;\n",
              "    }\n",
              "</style>\n",
              "<table border=\"1\" class=\"dataframe\">\n",
              "  <thead>\n",
              "    <tr style=\"text-align: right;\">\n",
              "      <th></th>\n",
              "      <th>11_CodEtnia_Indigena</th>\n",
              "      <th>11_CodEtnia_Negro</th>\n",
              "      <th>11_CodEtnia_Otro</th>\n",
              "      <th>11_CodEtnia_Palenquero de San Basilio</th>\n",
              "      <th>11_CodEtnia_ROM (Gitano)</th>\n",
              "      <th>11_CodEtnia_Raizal</th>\n",
              "      <th>ENDOSALUD_SI</th>\n",
              "      <th>Indice Masa Corporal = Peso/talla Al Cuadrado</th>\n",
              "      <th>24_Talla</th>\n",
              "      <th>23_Peso</th>\n",
              "      <th>...</th>\n",
              "      <th>9_Regimen_SUBSIDIADO</th>\n",
              "      <th>18_DxHTA_SI</th>\n",
              "      <th>18_DxHTA_NO</th>\n",
              "      <th>22_EtiologiaERC_HTA</th>\n",
              "      <th>22_EtiologiaERC_DM</th>\n",
              "      <th>CLASIFICACION FINAL DEL RIESGO_ALTO</th>\n",
              "      <th>CLASIFICACION FINAL DEL RIESGO_BAJO</th>\n",
              "      <th>CLASIFICACION FINAL DEL RIESGO_MODERADO</th>\n",
              "      <th>20_DxDM_SI</th>\n",
              "      <th>CLASIFICACION FINAL DEL RIESGO_MUY ALTO</th>\n",
              "    </tr>\n",
              "  </thead>\n",
              "  <tbody>\n",
              "    <tr>\n",
              "      <th>0</th>\n",
              "      <td>0.0</td>\n",
              "      <td>0.0</td>\n",
              "      <td>1.0</td>\n",
              "      <td>0.0</td>\n",
              "      <td>0.0</td>\n",
              "      <td>0.0</td>\n",
              "      <td>0.0</td>\n",
              "      <td>26.892323</td>\n",
              "      <td>167.0</td>\n",
              "      <td>75.0</td>\n",
              "      <td>...</td>\n",
              "      <td>1</td>\n",
              "      <td>1</td>\n",
              "      <td>0</td>\n",
              "      <td>1</td>\n",
              "      <td>0</td>\n",
              "      <td>0</td>\n",
              "      <td>1</td>\n",
              "      <td>0</td>\n",
              "      <td>0</td>\n",
              "      <td>0</td>\n",
              "    </tr>\n",
              "    <tr>\n",
              "      <th>1</th>\n",
              "      <td>0.0</td>\n",
              "      <td>0.0</td>\n",
              "      <td>1.0</td>\n",
              "      <td>0.0</td>\n",
              "      <td>0.0</td>\n",
              "      <td>0.0</td>\n",
              "      <td>1.0</td>\n",
              "      <td>31.250000</td>\n",
              "      <td>160.0</td>\n",
              "      <td>80.0</td>\n",
              "      <td>...</td>\n",
              "      <td>1</td>\n",
              "      <td>1</td>\n",
              "      <td>0</td>\n",
              "      <td>1</td>\n",
              "      <td>0</td>\n",
              "      <td>0</td>\n",
              "      <td>0</td>\n",
              "      <td>1</td>\n",
              "      <td>0</td>\n",
              "      <td>0</td>\n",
              "    </tr>\n",
              "    <tr>\n",
              "      <th>2</th>\n",
              "      <td>0.0</td>\n",
              "      <td>0.0</td>\n",
              "      <td>1.0</td>\n",
              "      <td>0.0</td>\n",
              "      <td>0.0</td>\n",
              "      <td>0.0</td>\n",
              "      <td>0.0</td>\n",
              "      <td>24.690405</td>\n",
              "      <td>161.0</td>\n",
              "      <td>64.0</td>\n",
              "      <td>...</td>\n",
              "      <td>1</td>\n",
              "      <td>1</td>\n",
              "      <td>0</td>\n",
              "      <td>1</td>\n",
              "      <td>0</td>\n",
              "      <td>0</td>\n",
              "      <td>0</td>\n",
              "      <td>1</td>\n",
              "      <td>0</td>\n",
              "      <td>0</td>\n",
              "    </tr>\n",
              "    <tr>\n",
              "      <th>3</th>\n",
              "      <td>0.0</td>\n",
              "      <td>0.0</td>\n",
              "      <td>1.0</td>\n",
              "      <td>0.0</td>\n",
              "      <td>0.0</td>\n",
              "      <td>0.0</td>\n",
              "      <td>0.0</td>\n",
              "      <td>25.000000</td>\n",
              "      <td>160.0</td>\n",
              "      <td>64.0</td>\n",
              "      <td>...</td>\n",
              "      <td>0</td>\n",
              "      <td>1</td>\n",
              "      <td>0</td>\n",
              "      <td>0</td>\n",
              "      <td>0</td>\n",
              "      <td>1</td>\n",
              "      <td>0</td>\n",
              "      <td>0</td>\n",
              "      <td>1</td>\n",
              "      <td>0</td>\n",
              "    </tr>\n",
              "    <tr>\n",
              "      <th>4</th>\n",
              "      <td>0.0</td>\n",
              "      <td>0.0</td>\n",
              "      <td>1.0</td>\n",
              "      <td>0.0</td>\n",
              "      <td>0.0</td>\n",
              "      <td>0.0</td>\n",
              "      <td>0.0</td>\n",
              "      <td>23.437500</td>\n",
              "      <td>160.0</td>\n",
              "      <td>60.0</td>\n",
              "      <td>...</td>\n",
              "      <td>1</td>\n",
              "      <td>0</td>\n",
              "      <td>1</td>\n",
              "      <td>0</td>\n",
              "      <td>1</td>\n",
              "      <td>1</td>\n",
              "      <td>0</td>\n",
              "      <td>0</td>\n",
              "      <td>1</td>\n",
              "      <td>0</td>\n",
              "    </tr>\n",
              "  </tbody>\n",
              "</table>\n",
              "<p>5 rows × 29 columns</p>\n",
              "</div>\n",
              "    <div class=\"colab-df-buttons\">\n",
              "\n",
              "  <div class=\"colab-df-container\">\n",
              "    <button class=\"colab-df-convert\" onclick=\"convertToInteractive('df-41a4d9b1-34da-46f2-89bc-a75a1c17bf98')\"\n",
              "            title=\"Convert this dataframe to an interactive table.\"\n",
              "            style=\"display:none;\">\n",
              "\n",
              "  <svg xmlns=\"http://www.w3.org/2000/svg\" height=\"24px\" viewBox=\"0 -960 960 960\">\n",
              "    <path d=\"M120-120v-720h720v720H120Zm60-500h600v-160H180v160Zm220 220h160v-160H400v160Zm0 220h160v-160H400v160ZM180-400h160v-160H180v160Zm440 0h160v-160H620v160ZM180-180h160v-160H180v160Zm440 0h160v-160H620v160Z\"/>\n",
              "  </svg>\n",
              "    </button>\n",
              "\n",
              "  <style>\n",
              "    .colab-df-container {\n",
              "      display:flex;\n",
              "      gap: 12px;\n",
              "    }\n",
              "\n",
              "    .colab-df-convert {\n",
              "      background-color: #E8F0FE;\n",
              "      border: none;\n",
              "      border-radius: 50%;\n",
              "      cursor: pointer;\n",
              "      display: none;\n",
              "      fill: #1967D2;\n",
              "      height: 32px;\n",
              "      padding: 0 0 0 0;\n",
              "      width: 32px;\n",
              "    }\n",
              "\n",
              "    .colab-df-convert:hover {\n",
              "      background-color: #E2EBFA;\n",
              "      box-shadow: 0px 1px 2px rgba(60, 64, 67, 0.3), 0px 1px 3px 1px rgba(60, 64, 67, 0.15);\n",
              "      fill: #174EA6;\n",
              "    }\n",
              "\n",
              "    .colab-df-buttons div {\n",
              "      margin-bottom: 4px;\n",
              "    }\n",
              "\n",
              "    [theme=dark] .colab-df-convert {\n",
              "      background-color: #3B4455;\n",
              "      fill: #D2E3FC;\n",
              "    }\n",
              "\n",
              "    [theme=dark] .colab-df-convert:hover {\n",
              "      background-color: #434B5C;\n",
              "      box-shadow: 0px 1px 3px 1px rgba(0, 0, 0, 0.15);\n",
              "      filter: drop-shadow(0px 1px 2px rgba(0, 0, 0, 0.3));\n",
              "      fill: #FFFFFF;\n",
              "    }\n",
              "  </style>\n",
              "\n",
              "    <script>\n",
              "      const buttonEl =\n",
              "        document.querySelector('#df-41a4d9b1-34da-46f2-89bc-a75a1c17bf98 button.colab-df-convert');\n",
              "      buttonEl.style.display =\n",
              "        google.colab.kernel.accessAllowed ? 'block' : 'none';\n",
              "\n",
              "      async function convertToInteractive(key) {\n",
              "        const element = document.querySelector('#df-41a4d9b1-34da-46f2-89bc-a75a1c17bf98');\n",
              "        const dataTable =\n",
              "          await google.colab.kernel.invokeFunction('convertToInteractive',\n",
              "                                                    [key], {});\n",
              "        if (!dataTable) return;\n",
              "\n",
              "        const docLinkHtml = 'Like what you see? Visit the ' +\n",
              "          '<a target=\"_blank\" href=https://colab.research.google.com/notebooks/data_table.ipynb>data table notebook</a>'\n",
              "          + ' to learn more about interactive tables.';\n",
              "        element.innerHTML = '';\n",
              "        dataTable['output_type'] = 'display_data';\n",
              "        await google.colab.output.renderOutput(dataTable, element);\n",
              "        const docLink = document.createElement('div');\n",
              "        docLink.innerHTML = docLinkHtml;\n",
              "        element.appendChild(docLink);\n",
              "      }\n",
              "    </script>\n",
              "  </div>\n",
              "\n",
              "\n",
              "    <div id=\"df-a655adda-f54d-4f13-bcca-9a16e49abf24\">\n",
              "      <button class=\"colab-df-quickchart\" onclick=\"quickchart('df-a655adda-f54d-4f13-bcca-9a16e49abf24')\"\n",
              "                title=\"Suggest charts\"\n",
              "                style=\"display:none;\">\n",
              "\n",
              "<svg xmlns=\"http://www.w3.org/2000/svg\" height=\"24px\"viewBox=\"0 0 24 24\"\n",
              "     width=\"24px\">\n",
              "    <g>\n",
              "        <path d=\"M19 3H5c-1.1 0-2 .9-2 2v14c0 1.1.9 2 2 2h14c1.1 0 2-.9 2-2V5c0-1.1-.9-2-2-2zM9 17H7v-7h2v7zm4 0h-2V7h2v10zm4 0h-2v-4h2v4z\"/>\n",
              "    </g>\n",
              "</svg>\n",
              "      </button>\n",
              "\n",
              "<style>\n",
              "  .colab-df-quickchart {\n",
              "      --bg-color: #E8F0FE;\n",
              "      --fill-color: #1967D2;\n",
              "      --hover-bg-color: #E2EBFA;\n",
              "      --hover-fill-color: #174EA6;\n",
              "      --disabled-fill-color: #AAA;\n",
              "      --disabled-bg-color: #DDD;\n",
              "  }\n",
              "\n",
              "  [theme=dark] .colab-df-quickchart {\n",
              "      --bg-color: #3B4455;\n",
              "      --fill-color: #D2E3FC;\n",
              "      --hover-bg-color: #434B5C;\n",
              "      --hover-fill-color: #FFFFFF;\n",
              "      --disabled-bg-color: #3B4455;\n",
              "      --disabled-fill-color: #666;\n",
              "  }\n",
              "\n",
              "  .colab-df-quickchart {\n",
              "    background-color: var(--bg-color);\n",
              "    border: none;\n",
              "    border-radius: 50%;\n",
              "    cursor: pointer;\n",
              "    display: none;\n",
              "    fill: var(--fill-color);\n",
              "    height: 32px;\n",
              "    padding: 0;\n",
              "    width: 32px;\n",
              "  }\n",
              "\n",
              "  .colab-df-quickchart:hover {\n",
              "    background-color: var(--hover-bg-color);\n",
              "    box-shadow: 0 1px 2px rgba(60, 64, 67, 0.3), 0 1px 3px 1px rgba(60, 64, 67, 0.15);\n",
              "    fill: var(--button-hover-fill-color);\n",
              "  }\n",
              "\n",
              "  .colab-df-quickchart-complete:disabled,\n",
              "  .colab-df-quickchart-complete:disabled:hover {\n",
              "    background-color: var(--disabled-bg-color);\n",
              "    fill: var(--disabled-fill-color);\n",
              "    box-shadow: none;\n",
              "  }\n",
              "\n",
              "  .colab-df-spinner {\n",
              "    border: 2px solid var(--fill-color);\n",
              "    border-color: transparent;\n",
              "    border-bottom-color: var(--fill-color);\n",
              "    animation:\n",
              "      spin 1s steps(1) infinite;\n",
              "  }\n",
              "\n",
              "  @keyframes spin {\n",
              "    0% {\n",
              "      border-color: transparent;\n",
              "      border-bottom-color: var(--fill-color);\n",
              "      border-left-color: var(--fill-color);\n",
              "    }\n",
              "    20% {\n",
              "      border-color: transparent;\n",
              "      border-left-color: var(--fill-color);\n",
              "      border-top-color: var(--fill-color);\n",
              "    }\n",
              "    30% {\n",
              "      border-color: transparent;\n",
              "      border-left-color: var(--fill-color);\n",
              "      border-top-color: var(--fill-color);\n",
              "      border-right-color: var(--fill-color);\n",
              "    }\n",
              "    40% {\n",
              "      border-color: transparent;\n",
              "      border-right-color: var(--fill-color);\n",
              "      border-top-color: var(--fill-color);\n",
              "    }\n",
              "    60% {\n",
              "      border-color: transparent;\n",
              "      border-right-color: var(--fill-color);\n",
              "    }\n",
              "    80% {\n",
              "      border-color: transparent;\n",
              "      border-right-color: var(--fill-color);\n",
              "      border-bottom-color: var(--fill-color);\n",
              "    }\n",
              "    90% {\n",
              "      border-color: transparent;\n",
              "      border-bottom-color: var(--fill-color);\n",
              "    }\n",
              "  }\n",
              "</style>\n",
              "\n",
              "      <script>\n",
              "        async function quickchart(key) {\n",
              "          const quickchartButtonEl =\n",
              "            document.querySelector('#' + key + ' button');\n",
              "          quickchartButtonEl.disabled = true;  // To prevent multiple clicks.\n",
              "          quickchartButtonEl.classList.add('colab-df-spinner');\n",
              "          try {\n",
              "            const charts = await google.colab.kernel.invokeFunction(\n",
              "                'suggestCharts', [key], {});\n",
              "          } catch (error) {\n",
              "            console.error('Error during call to suggestCharts:', error);\n",
              "          }\n",
              "          quickchartButtonEl.classList.remove('colab-df-spinner');\n",
              "          quickchartButtonEl.classList.add('colab-df-quickchart-complete');\n",
              "        }\n",
              "        (() => {\n",
              "          let quickchartButtonEl =\n",
              "            document.querySelector('#df-a655adda-f54d-4f13-bcca-9a16e49abf24 button');\n",
              "          quickchartButtonEl.style.display =\n",
              "            google.colab.kernel.accessAllowed ? 'block' : 'none';\n",
              "        })();\n",
              "      </script>\n",
              "    </div>\n",
              "\n",
              "    </div>\n",
              "  </div>\n"
            ],
            "application/vnd.google.colaboratory.intrinsic+json": {
              "type": "dataframe",
              "variable_name": "df"
            }
          },
          "metadata": {},
          "execution_count": 81
        }
      ]
    },
    {
      "cell_type": "code",
      "source": [
        "df.dtypes"
      ],
      "metadata": {
        "colab": {
          "base_uri": "https://localhost:8080/",
          "height": 0
        },
        "id": "1BpyQeVXaL9G",
        "outputId": "744dda5f-ed69-459b-d1f6-f8faac9f6966"
      },
      "execution_count": 82,
      "outputs": [
        {
          "output_type": "execute_result",
          "data": {
            "text/plain": [
              "11_CodEtnia_Indigena                             float64\n",
              "11_CodEtnia_Negro                                float64\n",
              "11_CodEtnia_Otro                                 float64\n",
              "11_CodEtnia_Palenquero de San Basilio            float64\n",
              "11_CodEtnia_ROM (Gitano)                         float64\n",
              "11_CodEtnia_Raizal                               float64\n",
              "ENDOSALUD_SI                                     float64\n",
              "Indice Masa Corporal = Peso/talla Al Cuadrado    float64\n",
              "24_Talla                                         float64\n",
              "23_Peso                                          float64\n",
              "25_TenArtSis                                     float64\n",
              "26_TenArtDitlica                                 float64\n",
              "36_RcbeIECA_SI                                   float64\n",
              "37_RcbeARA2_SI                                   float64\n",
              "22_EtiologiaERC_HTA-DM                             int64\n",
              "EDAD (Años cumplidos)                            float64\n",
              "8_Sexo_F                                           int64\n",
              "9_Regimen_CONTRIBUTIVO                             int64\n",
              "9_Regimen_NO ASEGURADO                             int64\n",
              "9_Regimen_SUBSIDIADO                               int64\n",
              "18_DxHTA_SI                                        int64\n",
              "18_DxHTA_NO                                        int64\n",
              "22_EtiologiaERC_HTA                                int64\n",
              "22_EtiologiaERC_DM                                 int64\n",
              "CLASIFICACION FINAL DEL RIESGO_ALTO                int64\n",
              "CLASIFICACION FINAL DEL RIESGO_BAJO                int64\n",
              "CLASIFICACION FINAL DEL RIESGO_MODERADO            int64\n",
              "20_DxDM_SI                                         int64\n",
              "CLASIFICACION FINAL DEL RIESGO_MUY ALTO            int64\n",
              "dtype: object"
            ],
            "text/html": [
              "<div>\n",
              "<style scoped>\n",
              "    .dataframe tbody tr th:only-of-type {\n",
              "        vertical-align: middle;\n",
              "    }\n",
              "\n",
              "    .dataframe tbody tr th {\n",
              "        vertical-align: top;\n",
              "    }\n",
              "\n",
              "    .dataframe thead th {\n",
              "        text-align: right;\n",
              "    }\n",
              "</style>\n",
              "<table border=\"1\" class=\"dataframe\">\n",
              "  <thead>\n",
              "    <tr style=\"text-align: right;\">\n",
              "      <th></th>\n",
              "      <th>0</th>\n",
              "    </tr>\n",
              "  </thead>\n",
              "  <tbody>\n",
              "    <tr>\n",
              "      <th>11_CodEtnia_Indigena</th>\n",
              "      <td>float64</td>\n",
              "    </tr>\n",
              "    <tr>\n",
              "      <th>11_CodEtnia_Negro</th>\n",
              "      <td>float64</td>\n",
              "    </tr>\n",
              "    <tr>\n",
              "      <th>11_CodEtnia_Otro</th>\n",
              "      <td>float64</td>\n",
              "    </tr>\n",
              "    <tr>\n",
              "      <th>11_CodEtnia_Palenquero de San Basilio</th>\n",
              "      <td>float64</td>\n",
              "    </tr>\n",
              "    <tr>\n",
              "      <th>11_CodEtnia_ROM (Gitano)</th>\n",
              "      <td>float64</td>\n",
              "    </tr>\n",
              "    <tr>\n",
              "      <th>11_CodEtnia_Raizal</th>\n",
              "      <td>float64</td>\n",
              "    </tr>\n",
              "    <tr>\n",
              "      <th>ENDOSALUD_SI</th>\n",
              "      <td>float64</td>\n",
              "    </tr>\n",
              "    <tr>\n",
              "      <th>Indice Masa Corporal = Peso/talla Al Cuadrado</th>\n",
              "      <td>float64</td>\n",
              "    </tr>\n",
              "    <tr>\n",
              "      <th>24_Talla</th>\n",
              "      <td>float64</td>\n",
              "    </tr>\n",
              "    <tr>\n",
              "      <th>23_Peso</th>\n",
              "      <td>float64</td>\n",
              "    </tr>\n",
              "    <tr>\n",
              "      <th>25_TenArtSis</th>\n",
              "      <td>float64</td>\n",
              "    </tr>\n",
              "    <tr>\n",
              "      <th>26_TenArtDitlica</th>\n",
              "      <td>float64</td>\n",
              "    </tr>\n",
              "    <tr>\n",
              "      <th>36_RcbeIECA_SI</th>\n",
              "      <td>float64</td>\n",
              "    </tr>\n",
              "    <tr>\n",
              "      <th>37_RcbeARA2_SI</th>\n",
              "      <td>float64</td>\n",
              "    </tr>\n",
              "    <tr>\n",
              "      <th>22_EtiologiaERC_HTA-DM</th>\n",
              "      <td>int64</td>\n",
              "    </tr>\n",
              "    <tr>\n",
              "      <th>EDAD (Años cumplidos)</th>\n",
              "      <td>float64</td>\n",
              "    </tr>\n",
              "    <tr>\n",
              "      <th>8_Sexo_F</th>\n",
              "      <td>int64</td>\n",
              "    </tr>\n",
              "    <tr>\n",
              "      <th>9_Regimen_CONTRIBUTIVO</th>\n",
              "      <td>int64</td>\n",
              "    </tr>\n",
              "    <tr>\n",
              "      <th>9_Regimen_NO ASEGURADO</th>\n",
              "      <td>int64</td>\n",
              "    </tr>\n",
              "    <tr>\n",
              "      <th>9_Regimen_SUBSIDIADO</th>\n",
              "      <td>int64</td>\n",
              "    </tr>\n",
              "    <tr>\n",
              "      <th>18_DxHTA_SI</th>\n",
              "      <td>int64</td>\n",
              "    </tr>\n",
              "    <tr>\n",
              "      <th>18_DxHTA_NO</th>\n",
              "      <td>int64</td>\n",
              "    </tr>\n",
              "    <tr>\n",
              "      <th>22_EtiologiaERC_HTA</th>\n",
              "      <td>int64</td>\n",
              "    </tr>\n",
              "    <tr>\n",
              "      <th>22_EtiologiaERC_DM</th>\n",
              "      <td>int64</td>\n",
              "    </tr>\n",
              "    <tr>\n",
              "      <th>CLASIFICACION FINAL DEL RIESGO_ALTO</th>\n",
              "      <td>int64</td>\n",
              "    </tr>\n",
              "    <tr>\n",
              "      <th>CLASIFICACION FINAL DEL RIESGO_BAJO</th>\n",
              "      <td>int64</td>\n",
              "    </tr>\n",
              "    <tr>\n",
              "      <th>CLASIFICACION FINAL DEL RIESGO_MODERADO</th>\n",
              "      <td>int64</td>\n",
              "    </tr>\n",
              "    <tr>\n",
              "      <th>20_DxDM_SI</th>\n",
              "      <td>int64</td>\n",
              "    </tr>\n",
              "    <tr>\n",
              "      <th>CLASIFICACION FINAL DEL RIESGO_MUY ALTO</th>\n",
              "      <td>int64</td>\n",
              "    </tr>\n",
              "  </tbody>\n",
              "</table>\n",
              "</div><br><label><b>dtype:</b> object</label>"
            ]
          },
          "metadata": {},
          "execution_count": 82
        }
      ]
    },
    {
      "cell_type": "code",
      "source": [
        "df.describe()"
      ],
      "metadata": {
        "colab": {
          "base_uri": "https://localhost:8080/",
          "height": 0
        },
        "id": "ZIzQY0oAXqw7",
        "outputId": "33a09fbe-0c90-4e1d-dc05-abe006ccca6d"
      },
      "execution_count": 103,
      "outputs": [
        {
          "output_type": "execute_result",
          "data": {
            "text/plain": [
              "       11_CodEtnia_Indigena  11_CodEtnia_Negro  11_CodEtnia_Otro  \\\n",
              "count          2.782908e+06       2.782908e+06      2.782908e+06   \n",
              "mean           1.730097e-02       2.830780e-01      6.978434e-01   \n",
              "std            1.303904e-01       4.504941e-01      4.591928e-01   \n",
              "min            0.000000e+00       0.000000e+00      0.000000e+00   \n",
              "25%            0.000000e+00       0.000000e+00      0.000000e+00   \n",
              "50%            0.000000e+00       0.000000e+00      1.000000e+00   \n",
              "75%            0.000000e+00       1.000000e+00      1.000000e+00   \n",
              "max            1.000000e+00       1.000000e+00      1.000000e+00   \n",
              "\n",
              "       11_CodEtnia_Palenquero de San Basilio  11_CodEtnia_ROM (Gitano)  \\\n",
              "count                           2.782908e+06              2.782908e+06   \n",
              "mean                            4.312036e-06              6.514768e-04   \n",
              "std                             2.076540e-03              2.551573e-02   \n",
              "min                             0.000000e+00              0.000000e+00   \n",
              "25%                             0.000000e+00              0.000000e+00   \n",
              "50%                             0.000000e+00              0.000000e+00   \n",
              "75%                             0.000000e+00              0.000000e+00   \n",
              "max                             1.000000e+00              1.000000e+00   \n",
              "\n",
              "       11_CodEtnia_Raizal  ENDOSALUD_SI  \\\n",
              "count        2.782908e+06  2.782908e+06   \n",
              "mean         1.121848e-03  6.843561e-03   \n",
              "std          3.347521e-02  8.244228e-02   \n",
              "min          0.000000e+00  0.000000e+00   \n",
              "25%          0.000000e+00  0.000000e+00   \n",
              "50%          0.000000e+00  0.000000e+00   \n",
              "75%          0.000000e+00  0.000000e+00   \n",
              "max          1.000000e+00  1.000000e+00   \n",
              "\n",
              "       Indice Masa Corporal = Peso/talla Al Cuadrado      24_Talla  \\\n",
              "count                                   2.782908e+06  2.782908e+06   \n",
              "mean                                    2.849729e+01  1.619945e+02   \n",
              "std                                     2.113921e+01  8.483833e+00   \n",
              "min                                     0.000000e+00  1.000000e+01   \n",
              "25%                                     2.460973e+01  1.570000e+02   \n",
              "50%                                     2.768878e+01  1.620000e+02   \n",
              "75%                                     3.125000e+01  1.680000e+02   \n",
              "max                                     6.500000e+03  2.600000e+02   \n",
              "\n",
              "            23_Peso  ...  9_Regimen_SUBSIDIADO   18_DxHTA_SI   18_DxHTA_NO  \\\n",
              "count  2.782908e+06  ...          2.782908e+06  2.782908e+06  2.782908e+06   \n",
              "mean   7.441758e+01  ...          9.792544e-01  8.950109e-01  1.049880e-01   \n",
              "std    1.546337e+01  ...          1.425314e-01  3.065394e-01  3.065380e-01   \n",
              "min    0.000000e+00  ...          0.000000e+00  0.000000e+00  0.000000e+00   \n",
              "25%    6.400000e+01  ...          1.000000e+00  1.000000e+00  0.000000e+00   \n",
              "50%    7.300000e+01  ...          1.000000e+00  1.000000e+00  0.000000e+00   \n",
              "75%    8.300000e+01  ...          1.000000e+00  1.000000e+00  0.000000e+00   \n",
              "max    2.580000e+02  ...          1.000000e+00  1.000000e+00  1.000000e+00   \n",
              "\n",
              "       22_EtiologiaERC_HTA  22_EtiologiaERC_DM  \\\n",
              "count         2.782908e+06        2.782908e+06   \n",
              "mean          7.099376e-01        1.049880e-01   \n",
              "std           4.537910e-01        3.065380e-01   \n",
              "min           0.000000e+00        0.000000e+00   \n",
              "25%           0.000000e+00        0.000000e+00   \n",
              "50%           1.000000e+00        0.000000e+00   \n",
              "75%           1.000000e+00        0.000000e+00   \n",
              "max           1.000000e+00        1.000000e+00   \n",
              "\n",
              "       CLASIFICACION FINAL DEL RIESGO_ALTO  \\\n",
              "count                         2.782908e+06   \n",
              "mean                          3.806547e-01   \n",
              "std                           4.855479e-01   \n",
              "min                           0.000000e+00   \n",
              "25%                           0.000000e+00   \n",
              "50%                           0.000000e+00   \n",
              "75%                           1.000000e+00   \n",
              "max                           1.000000e+00   \n",
              "\n",
              "       CLASIFICACION FINAL DEL RIESGO_BAJO  \\\n",
              "count                         2.782908e+06   \n",
              "mean                          3.308985e-01   \n",
              "std                           4.705367e-01   \n",
              "min                           0.000000e+00   \n",
              "25%                           0.000000e+00   \n",
              "50%                           0.000000e+00   \n",
              "75%                           1.000000e+00   \n",
              "max                           1.000000e+00   \n",
              "\n",
              "       CLASIFICACION FINAL DEL RIESGO_MODERADO    20_DxDM_SI  \\\n",
              "count                             2.782908e+06  2.782908e+06   \n",
              "mean                              2.545585e-01  2.900603e-01   \n",
              "std                               4.356129e-01  4.537900e-01   \n",
              "min                               0.000000e+00  0.000000e+00   \n",
              "25%                               0.000000e+00  0.000000e+00   \n",
              "50%                               0.000000e+00  0.000000e+00   \n",
              "75%                               1.000000e+00  1.000000e+00   \n",
              "max                               1.000000e+00  1.000000e+00   \n",
              "\n",
              "       CLASIFICACION FINAL DEL RIESGO_MUY ALTO  \n",
              "count                             2.782908e+06  \n",
              "mean                              3.388829e-02  \n",
              "std                               1.809417e-01  \n",
              "min                               0.000000e+00  \n",
              "25%                               0.000000e+00  \n",
              "50%                               0.000000e+00  \n",
              "75%                               0.000000e+00  \n",
              "max                               1.000000e+00  \n",
              "\n",
              "[8 rows x 29 columns]"
            ],
            "text/html": [
              "\n",
              "  <div id=\"df-ff8cd452-3315-499e-91d6-90592475adb2\" class=\"colab-df-container\">\n",
              "    <div>\n",
              "<style scoped>\n",
              "    .dataframe tbody tr th:only-of-type {\n",
              "        vertical-align: middle;\n",
              "    }\n",
              "\n",
              "    .dataframe tbody tr th {\n",
              "        vertical-align: top;\n",
              "    }\n",
              "\n",
              "    .dataframe thead th {\n",
              "        text-align: right;\n",
              "    }\n",
              "</style>\n",
              "<table border=\"1\" class=\"dataframe\">\n",
              "  <thead>\n",
              "    <tr style=\"text-align: right;\">\n",
              "      <th></th>\n",
              "      <th>11_CodEtnia_Indigena</th>\n",
              "      <th>11_CodEtnia_Negro</th>\n",
              "      <th>11_CodEtnia_Otro</th>\n",
              "      <th>11_CodEtnia_Palenquero de San Basilio</th>\n",
              "      <th>11_CodEtnia_ROM (Gitano)</th>\n",
              "      <th>11_CodEtnia_Raizal</th>\n",
              "      <th>ENDOSALUD_SI</th>\n",
              "      <th>Indice Masa Corporal = Peso/talla Al Cuadrado</th>\n",
              "      <th>24_Talla</th>\n",
              "      <th>23_Peso</th>\n",
              "      <th>...</th>\n",
              "      <th>9_Regimen_SUBSIDIADO</th>\n",
              "      <th>18_DxHTA_SI</th>\n",
              "      <th>18_DxHTA_NO</th>\n",
              "      <th>22_EtiologiaERC_HTA</th>\n",
              "      <th>22_EtiologiaERC_DM</th>\n",
              "      <th>CLASIFICACION FINAL DEL RIESGO_ALTO</th>\n",
              "      <th>CLASIFICACION FINAL DEL RIESGO_BAJO</th>\n",
              "      <th>CLASIFICACION FINAL DEL RIESGO_MODERADO</th>\n",
              "      <th>20_DxDM_SI</th>\n",
              "      <th>CLASIFICACION FINAL DEL RIESGO_MUY ALTO</th>\n",
              "    </tr>\n",
              "  </thead>\n",
              "  <tbody>\n",
              "    <tr>\n",
              "      <th>count</th>\n",
              "      <td>2.782908e+06</td>\n",
              "      <td>2.782908e+06</td>\n",
              "      <td>2.782908e+06</td>\n",
              "      <td>2.782908e+06</td>\n",
              "      <td>2.782908e+06</td>\n",
              "      <td>2.782908e+06</td>\n",
              "      <td>2.782908e+06</td>\n",
              "      <td>2.782908e+06</td>\n",
              "      <td>2.782908e+06</td>\n",
              "      <td>2.782908e+06</td>\n",
              "      <td>...</td>\n",
              "      <td>2.782908e+06</td>\n",
              "      <td>2.782908e+06</td>\n",
              "      <td>2.782908e+06</td>\n",
              "      <td>2.782908e+06</td>\n",
              "      <td>2.782908e+06</td>\n",
              "      <td>2.782908e+06</td>\n",
              "      <td>2.782908e+06</td>\n",
              "      <td>2.782908e+06</td>\n",
              "      <td>2.782908e+06</td>\n",
              "      <td>2.782908e+06</td>\n",
              "    </tr>\n",
              "    <tr>\n",
              "      <th>mean</th>\n",
              "      <td>1.730097e-02</td>\n",
              "      <td>2.830780e-01</td>\n",
              "      <td>6.978434e-01</td>\n",
              "      <td>4.312036e-06</td>\n",
              "      <td>6.514768e-04</td>\n",
              "      <td>1.121848e-03</td>\n",
              "      <td>6.843561e-03</td>\n",
              "      <td>2.849729e+01</td>\n",
              "      <td>1.619945e+02</td>\n",
              "      <td>7.441758e+01</td>\n",
              "      <td>...</td>\n",
              "      <td>9.792544e-01</td>\n",
              "      <td>8.950109e-01</td>\n",
              "      <td>1.049880e-01</td>\n",
              "      <td>7.099376e-01</td>\n",
              "      <td>1.049880e-01</td>\n",
              "      <td>3.806547e-01</td>\n",
              "      <td>3.308985e-01</td>\n",
              "      <td>2.545585e-01</td>\n",
              "      <td>2.900603e-01</td>\n",
              "      <td>3.388829e-02</td>\n",
              "    </tr>\n",
              "    <tr>\n",
              "      <th>std</th>\n",
              "      <td>1.303904e-01</td>\n",
              "      <td>4.504941e-01</td>\n",
              "      <td>4.591928e-01</td>\n",
              "      <td>2.076540e-03</td>\n",
              "      <td>2.551573e-02</td>\n",
              "      <td>3.347521e-02</td>\n",
              "      <td>8.244228e-02</td>\n",
              "      <td>2.113921e+01</td>\n",
              "      <td>8.483833e+00</td>\n",
              "      <td>1.546337e+01</td>\n",
              "      <td>...</td>\n",
              "      <td>1.425314e-01</td>\n",
              "      <td>3.065394e-01</td>\n",
              "      <td>3.065380e-01</td>\n",
              "      <td>4.537910e-01</td>\n",
              "      <td>3.065380e-01</td>\n",
              "      <td>4.855479e-01</td>\n",
              "      <td>4.705367e-01</td>\n",
              "      <td>4.356129e-01</td>\n",
              "      <td>4.537900e-01</td>\n",
              "      <td>1.809417e-01</td>\n",
              "    </tr>\n",
              "    <tr>\n",
              "      <th>min</th>\n",
              "      <td>0.000000e+00</td>\n",
              "      <td>0.000000e+00</td>\n",
              "      <td>0.000000e+00</td>\n",
              "      <td>0.000000e+00</td>\n",
              "      <td>0.000000e+00</td>\n",
              "      <td>0.000000e+00</td>\n",
              "      <td>0.000000e+00</td>\n",
              "      <td>0.000000e+00</td>\n",
              "      <td>1.000000e+01</td>\n",
              "      <td>0.000000e+00</td>\n",
              "      <td>...</td>\n",
              "      <td>0.000000e+00</td>\n",
              "      <td>0.000000e+00</td>\n",
              "      <td>0.000000e+00</td>\n",
              "      <td>0.000000e+00</td>\n",
              "      <td>0.000000e+00</td>\n",
              "      <td>0.000000e+00</td>\n",
              "      <td>0.000000e+00</td>\n",
              "      <td>0.000000e+00</td>\n",
              "      <td>0.000000e+00</td>\n",
              "      <td>0.000000e+00</td>\n",
              "    </tr>\n",
              "    <tr>\n",
              "      <th>25%</th>\n",
              "      <td>0.000000e+00</td>\n",
              "      <td>0.000000e+00</td>\n",
              "      <td>0.000000e+00</td>\n",
              "      <td>0.000000e+00</td>\n",
              "      <td>0.000000e+00</td>\n",
              "      <td>0.000000e+00</td>\n",
              "      <td>0.000000e+00</td>\n",
              "      <td>2.460973e+01</td>\n",
              "      <td>1.570000e+02</td>\n",
              "      <td>6.400000e+01</td>\n",
              "      <td>...</td>\n",
              "      <td>1.000000e+00</td>\n",
              "      <td>1.000000e+00</td>\n",
              "      <td>0.000000e+00</td>\n",
              "      <td>0.000000e+00</td>\n",
              "      <td>0.000000e+00</td>\n",
              "      <td>0.000000e+00</td>\n",
              "      <td>0.000000e+00</td>\n",
              "      <td>0.000000e+00</td>\n",
              "      <td>0.000000e+00</td>\n",
              "      <td>0.000000e+00</td>\n",
              "    </tr>\n",
              "    <tr>\n",
              "      <th>50%</th>\n",
              "      <td>0.000000e+00</td>\n",
              "      <td>0.000000e+00</td>\n",
              "      <td>1.000000e+00</td>\n",
              "      <td>0.000000e+00</td>\n",
              "      <td>0.000000e+00</td>\n",
              "      <td>0.000000e+00</td>\n",
              "      <td>0.000000e+00</td>\n",
              "      <td>2.768878e+01</td>\n",
              "      <td>1.620000e+02</td>\n",
              "      <td>7.300000e+01</td>\n",
              "      <td>...</td>\n",
              "      <td>1.000000e+00</td>\n",
              "      <td>1.000000e+00</td>\n",
              "      <td>0.000000e+00</td>\n",
              "      <td>1.000000e+00</td>\n",
              "      <td>0.000000e+00</td>\n",
              "      <td>0.000000e+00</td>\n",
              "      <td>0.000000e+00</td>\n",
              "      <td>0.000000e+00</td>\n",
              "      <td>0.000000e+00</td>\n",
              "      <td>0.000000e+00</td>\n",
              "    </tr>\n",
              "    <tr>\n",
              "      <th>75%</th>\n",
              "      <td>0.000000e+00</td>\n",
              "      <td>1.000000e+00</td>\n",
              "      <td>1.000000e+00</td>\n",
              "      <td>0.000000e+00</td>\n",
              "      <td>0.000000e+00</td>\n",
              "      <td>0.000000e+00</td>\n",
              "      <td>0.000000e+00</td>\n",
              "      <td>3.125000e+01</td>\n",
              "      <td>1.680000e+02</td>\n",
              "      <td>8.300000e+01</td>\n",
              "      <td>...</td>\n",
              "      <td>1.000000e+00</td>\n",
              "      <td>1.000000e+00</td>\n",
              "      <td>0.000000e+00</td>\n",
              "      <td>1.000000e+00</td>\n",
              "      <td>0.000000e+00</td>\n",
              "      <td>1.000000e+00</td>\n",
              "      <td>1.000000e+00</td>\n",
              "      <td>1.000000e+00</td>\n",
              "      <td>1.000000e+00</td>\n",
              "      <td>0.000000e+00</td>\n",
              "    </tr>\n",
              "    <tr>\n",
              "      <th>max</th>\n",
              "      <td>1.000000e+00</td>\n",
              "      <td>1.000000e+00</td>\n",
              "      <td>1.000000e+00</td>\n",
              "      <td>1.000000e+00</td>\n",
              "      <td>1.000000e+00</td>\n",
              "      <td>1.000000e+00</td>\n",
              "      <td>1.000000e+00</td>\n",
              "      <td>6.500000e+03</td>\n",
              "      <td>2.600000e+02</td>\n",
              "      <td>2.580000e+02</td>\n",
              "      <td>...</td>\n",
              "      <td>1.000000e+00</td>\n",
              "      <td>1.000000e+00</td>\n",
              "      <td>1.000000e+00</td>\n",
              "      <td>1.000000e+00</td>\n",
              "      <td>1.000000e+00</td>\n",
              "      <td>1.000000e+00</td>\n",
              "      <td>1.000000e+00</td>\n",
              "      <td>1.000000e+00</td>\n",
              "      <td>1.000000e+00</td>\n",
              "      <td>1.000000e+00</td>\n",
              "    </tr>\n",
              "  </tbody>\n",
              "</table>\n",
              "<p>8 rows × 29 columns</p>\n",
              "</div>\n",
              "    <div class=\"colab-df-buttons\">\n",
              "\n",
              "  <div class=\"colab-df-container\">\n",
              "    <button class=\"colab-df-convert\" onclick=\"convertToInteractive('df-ff8cd452-3315-499e-91d6-90592475adb2')\"\n",
              "            title=\"Convert this dataframe to an interactive table.\"\n",
              "            style=\"display:none;\">\n",
              "\n",
              "  <svg xmlns=\"http://www.w3.org/2000/svg\" height=\"24px\" viewBox=\"0 -960 960 960\">\n",
              "    <path d=\"M120-120v-720h720v720H120Zm60-500h600v-160H180v160Zm220 220h160v-160H400v160Zm0 220h160v-160H400v160ZM180-400h160v-160H180v160Zm440 0h160v-160H620v160ZM180-180h160v-160H180v160Zm440 0h160v-160H620v160Z\"/>\n",
              "  </svg>\n",
              "    </button>\n",
              "\n",
              "  <style>\n",
              "    .colab-df-container {\n",
              "      display:flex;\n",
              "      gap: 12px;\n",
              "    }\n",
              "\n",
              "    .colab-df-convert {\n",
              "      background-color: #E8F0FE;\n",
              "      border: none;\n",
              "      border-radius: 50%;\n",
              "      cursor: pointer;\n",
              "      display: none;\n",
              "      fill: #1967D2;\n",
              "      height: 32px;\n",
              "      padding: 0 0 0 0;\n",
              "      width: 32px;\n",
              "    }\n",
              "\n",
              "    .colab-df-convert:hover {\n",
              "      background-color: #E2EBFA;\n",
              "      box-shadow: 0px 1px 2px rgba(60, 64, 67, 0.3), 0px 1px 3px 1px rgba(60, 64, 67, 0.15);\n",
              "      fill: #174EA6;\n",
              "    }\n",
              "\n",
              "    .colab-df-buttons div {\n",
              "      margin-bottom: 4px;\n",
              "    }\n",
              "\n",
              "    [theme=dark] .colab-df-convert {\n",
              "      background-color: #3B4455;\n",
              "      fill: #D2E3FC;\n",
              "    }\n",
              "\n",
              "    [theme=dark] .colab-df-convert:hover {\n",
              "      background-color: #434B5C;\n",
              "      box-shadow: 0px 1px 3px 1px rgba(0, 0, 0, 0.15);\n",
              "      filter: drop-shadow(0px 1px 2px rgba(0, 0, 0, 0.3));\n",
              "      fill: #FFFFFF;\n",
              "    }\n",
              "  </style>\n",
              "\n",
              "    <script>\n",
              "      const buttonEl =\n",
              "        document.querySelector('#df-ff8cd452-3315-499e-91d6-90592475adb2 button.colab-df-convert');\n",
              "      buttonEl.style.display =\n",
              "        google.colab.kernel.accessAllowed ? 'block' : 'none';\n",
              "\n",
              "      async function convertToInteractive(key) {\n",
              "        const element = document.querySelector('#df-ff8cd452-3315-499e-91d6-90592475adb2');\n",
              "        const dataTable =\n",
              "          await google.colab.kernel.invokeFunction('convertToInteractive',\n",
              "                                                    [key], {});\n",
              "        if (!dataTable) return;\n",
              "\n",
              "        const docLinkHtml = 'Like what you see? Visit the ' +\n",
              "          '<a target=\"_blank\" href=https://colab.research.google.com/notebooks/data_table.ipynb>data table notebook</a>'\n",
              "          + ' to learn more about interactive tables.';\n",
              "        element.innerHTML = '';\n",
              "        dataTable['output_type'] = 'display_data';\n",
              "        await google.colab.output.renderOutput(dataTable, element);\n",
              "        const docLink = document.createElement('div');\n",
              "        docLink.innerHTML = docLinkHtml;\n",
              "        element.appendChild(docLink);\n",
              "      }\n",
              "    </script>\n",
              "  </div>\n",
              "\n",
              "\n",
              "    <div id=\"df-21a99d0f-7e09-4e2e-b950-be0a3cec09fe\">\n",
              "      <button class=\"colab-df-quickchart\" onclick=\"quickchart('df-21a99d0f-7e09-4e2e-b950-be0a3cec09fe')\"\n",
              "                title=\"Suggest charts\"\n",
              "                style=\"display:none;\">\n",
              "\n",
              "<svg xmlns=\"http://www.w3.org/2000/svg\" height=\"24px\"viewBox=\"0 0 24 24\"\n",
              "     width=\"24px\">\n",
              "    <g>\n",
              "        <path d=\"M19 3H5c-1.1 0-2 .9-2 2v14c0 1.1.9 2 2 2h14c1.1 0 2-.9 2-2V5c0-1.1-.9-2-2-2zM9 17H7v-7h2v7zm4 0h-2V7h2v10zm4 0h-2v-4h2v4z\"/>\n",
              "    </g>\n",
              "</svg>\n",
              "      </button>\n",
              "\n",
              "<style>\n",
              "  .colab-df-quickchart {\n",
              "      --bg-color: #E8F0FE;\n",
              "      --fill-color: #1967D2;\n",
              "      --hover-bg-color: #E2EBFA;\n",
              "      --hover-fill-color: #174EA6;\n",
              "      --disabled-fill-color: #AAA;\n",
              "      --disabled-bg-color: #DDD;\n",
              "  }\n",
              "\n",
              "  [theme=dark] .colab-df-quickchart {\n",
              "      --bg-color: #3B4455;\n",
              "      --fill-color: #D2E3FC;\n",
              "      --hover-bg-color: #434B5C;\n",
              "      --hover-fill-color: #FFFFFF;\n",
              "      --disabled-bg-color: #3B4455;\n",
              "      --disabled-fill-color: #666;\n",
              "  }\n",
              "\n",
              "  .colab-df-quickchart {\n",
              "    background-color: var(--bg-color);\n",
              "    border: none;\n",
              "    border-radius: 50%;\n",
              "    cursor: pointer;\n",
              "    display: none;\n",
              "    fill: var(--fill-color);\n",
              "    height: 32px;\n",
              "    padding: 0;\n",
              "    width: 32px;\n",
              "  }\n",
              "\n",
              "  .colab-df-quickchart:hover {\n",
              "    background-color: var(--hover-bg-color);\n",
              "    box-shadow: 0 1px 2px rgba(60, 64, 67, 0.3), 0 1px 3px 1px rgba(60, 64, 67, 0.15);\n",
              "    fill: var(--button-hover-fill-color);\n",
              "  }\n",
              "\n",
              "  .colab-df-quickchart-complete:disabled,\n",
              "  .colab-df-quickchart-complete:disabled:hover {\n",
              "    background-color: var(--disabled-bg-color);\n",
              "    fill: var(--disabled-fill-color);\n",
              "    box-shadow: none;\n",
              "  }\n",
              "\n",
              "  .colab-df-spinner {\n",
              "    border: 2px solid var(--fill-color);\n",
              "    border-color: transparent;\n",
              "    border-bottom-color: var(--fill-color);\n",
              "    animation:\n",
              "      spin 1s steps(1) infinite;\n",
              "  }\n",
              "\n",
              "  @keyframes spin {\n",
              "    0% {\n",
              "      border-color: transparent;\n",
              "      border-bottom-color: var(--fill-color);\n",
              "      border-left-color: var(--fill-color);\n",
              "    }\n",
              "    20% {\n",
              "      border-color: transparent;\n",
              "      border-left-color: var(--fill-color);\n",
              "      border-top-color: var(--fill-color);\n",
              "    }\n",
              "    30% {\n",
              "      border-color: transparent;\n",
              "      border-left-color: var(--fill-color);\n",
              "      border-top-color: var(--fill-color);\n",
              "      border-right-color: var(--fill-color);\n",
              "    }\n",
              "    40% {\n",
              "      border-color: transparent;\n",
              "      border-right-color: var(--fill-color);\n",
              "      border-top-color: var(--fill-color);\n",
              "    }\n",
              "    60% {\n",
              "      border-color: transparent;\n",
              "      border-right-color: var(--fill-color);\n",
              "    }\n",
              "    80% {\n",
              "      border-color: transparent;\n",
              "      border-right-color: var(--fill-color);\n",
              "      border-bottom-color: var(--fill-color);\n",
              "    }\n",
              "    90% {\n",
              "      border-color: transparent;\n",
              "      border-bottom-color: var(--fill-color);\n",
              "    }\n",
              "  }\n",
              "</style>\n",
              "\n",
              "      <script>\n",
              "        async function quickchart(key) {\n",
              "          const quickchartButtonEl =\n",
              "            document.querySelector('#' + key + ' button');\n",
              "          quickchartButtonEl.disabled = true;  // To prevent multiple clicks.\n",
              "          quickchartButtonEl.classList.add('colab-df-spinner');\n",
              "          try {\n",
              "            const charts = await google.colab.kernel.invokeFunction(\n",
              "                'suggestCharts', [key], {});\n",
              "          } catch (error) {\n",
              "            console.error('Error during call to suggestCharts:', error);\n",
              "          }\n",
              "          quickchartButtonEl.classList.remove('colab-df-spinner');\n",
              "          quickchartButtonEl.classList.add('colab-df-quickchart-complete');\n",
              "        }\n",
              "        (() => {\n",
              "          let quickchartButtonEl =\n",
              "            document.querySelector('#df-21a99d0f-7e09-4e2e-b950-be0a3cec09fe button');\n",
              "          quickchartButtonEl.style.display =\n",
              "            google.colab.kernel.accessAllowed ? 'block' : 'none';\n",
              "        })();\n",
              "      </script>\n",
              "    </div>\n",
              "\n",
              "    </div>\n",
              "  </div>\n"
            ],
            "application/vnd.google.colaboratory.intrinsic+json": {
              "type": "dataframe"
            }
          },
          "metadata": {},
          "execution_count": 103
        }
      ]
    },
    {
      "cell_type": "markdown",
      "source": [
        "### Limpieza"
      ],
      "metadata": {
        "id": "95HkQ1PRhfE7"
      }
    },
    {
      "cell_type": "markdown",
      "source": [
        "#### Continuas"
      ],
      "metadata": {
        "id": "BHaRhWU4qrjA"
      }
    },
    {
      "cell_type": "markdown",
      "source": [
        "##### Presión arterial sistólica\n",
        "\n",
        "La presión arterial sistólica refleja la fuerza con la que el corazón bombea sangre hacia las arterias y, por tanto, el grado de tensión que soporta el sistema vascular en cada latido. Su elevación sostenida se asocia directamente con daño en las paredes arteriales, rigidez vascular y desarrollo de aterosclerosis, lo que incrementa la probabilidad de infarto, accidente cerebrovascular y otras complicaciones cardiovasculares. Además, numerosos estudios epidemiológicos han demostrado que la presión sistólica, especialmente en adultos mayores, discrimina mejor el riesgo que la diastólica, por lo que se considera un indicador clínico prioritario en la evaluación y predicción de enfermedades del corazón y los vasos sanguíneos."
      ],
      "metadata": {
        "id": "jRZ_3yrFhrY5"
      }
    },
    {
      "cell_type": "code",
      "source": [
        "errores_sis_dia = df[df['25_TenArtSis'] <= df['26_TenArtDitlica']]\n",
        "print(errores_sis_dia[['25_TenArtSis', '26_TenArtDitlica']])"
      ],
      "metadata": {
        "colab": {
          "base_uri": "https://localhost:8080/"
        },
        "id": "E2B9qNjKiDVJ",
        "outputId": "febdd5d0-a5ac-49f9-bcaf-ccb987a5bafd"
      },
      "execution_count": 104,
      "outputs": [
        {
          "output_type": "stream",
          "name": "stdout",
          "text": [
            "         25_TenArtSis  26_TenArtDitlica\n",
            "50465           111.0             111.0\n",
            "51796           111.0             111.0\n",
            "52304           111.0             111.0\n",
            "63386           107.0             111.0\n",
            "65030           111.0             111.0\n",
            "...               ...               ...\n",
            "2778726         110.0             110.0\n",
            "2779947          90.0              90.0\n",
            "2780077          80.0              80.0\n",
            "2780554           0.0              90.0\n",
            "2781920           0.0              60.0\n",
            "\n",
            "[321 rows x 2 columns]\n"
          ]
        }
      ]
    },
    {
      "cell_type": "code",
      "source": [
        "df = df.drop(errores_sis_dia.index)"
      ],
      "metadata": {
        "id": "gG3i8OAqjJ_f"
      },
      "execution_count": 105,
      "outputs": []
    },
    {
      "cell_type": "markdown",
      "source": [
        "Se ha identificado un error manifiesto en el dataset: la presencia de observaciones en las que la presión arterial sistólica es inferior a la diastólica. Dado que esto contradice los principios fisiológicos de la medición de la presión arterial, se ha determinado la necesidad de excluir dichos registros para mantener la integridad del conjunto de datos."
      ],
      "metadata": {
        "id": "Dn_-vVxwiGPX"
      }
    },
    {
      "cell_type": "code",
      "source": [
        "df = df[(df['25_TenArtSis'] >= 70) & (df['25_TenArtSis'] <= 250)]"
      ],
      "metadata": {
        "id": "k1hTRRGJi7NQ"
      },
      "execution_count": 106,
      "outputs": []
    },
    {
      "cell_type": "markdown",
      "source": [
        "Adicionalmente, he procedido a limpiar el dataset eliminando datos que son incompatibles con la vida. Esto incluye los registros con valor de '0' en la presión arterial y aquellos que se encuentran fuera del rango realista establecido entre 70 y 250 mmHg para excluir errores de medición y valores atípicos."
      ],
      "metadata": {
        "id": "AxPy1doqkGZr"
      }
    },
    {
      "cell_type": "code",
      "source": [
        "sis_atipicos = obtener_atipicos(df['25_TenArtSis'])\n",
        "df.drop(sis_atipicos, inplace=True)"
      ],
      "metadata": {
        "id": "OCRNxTZzlsEi"
      },
      "execution_count": 132,
      "outputs": []
    },
    {
      "cell_type": "markdown",
      "source": [
        "Por último, se ha determinado la necesidad de eliminar los datos atípicos que aún persisten en la variable de presión arterial sistólica. Aunque algunos de estos valores extremos podrían ser mediciones correctas, su presencia puede afectar de manera desproporcionada a estimadores estadísticos como la media y a la robustez de los modelos predictivos. Por ello, y con el fin de garantizar que las conclusiones del estudio reflejen la tendencia central de los datos, se han suprimido estos registros anómalos."
      ],
      "metadata": {
        "id": "k1yynWzDpNI1"
      }
    },
    {
      "cell_type": "markdown",
      "source": [
        "##### Presión arterial diastólica\n",
        "La presión arterial diastólica mide la presión residual que permanece en las arterias cuando el corazón está en su fase de relajación, entre un latido y otro. Este valor indica la resistencia mínima que el sistema vascular ofrece de forma continua al flujo sanguíneo. Una elevación persistente de la presión diastólica, conocida como hipertensión diastólica, se asocia con un aumento de la resistencia vascular periférica."
      ],
      "metadata": {
        "id": "7odYTx9ImHjz"
      }
    },
    {
      "cell_type": "code",
      "source": [
        "df = df[(df['26_TenArtDitlica'] >= 40) & (df['26_TenArtDitlica'] <= 130)]"
      ],
      "metadata": {
        "id": "FHM1qF_Voapp"
      },
      "execution_count": 109,
      "outputs": []
    },
    {
      "cell_type": "markdown",
      "source": [
        "Tras la exploración inicial, se identificaron valores de presión diastólica fuera del rango fisiológicamente plausible, como mediciones de 0 y valores extremadamente altos hasta 191 mmHg. Para asegurar la calidad y fiabilidad del conjunto de datos, se ha procedido a una primera fase de limpieza. Se aplicó un filtro para conservar únicamente los registros con una presión diastólica entre 40 y 130 mmHg. Este rango se establece para excluir tanto los errores de medición evidentes (valores cercanos a cero) como los valores atípicos extremos que podrían distorsionar los resultados del análisis."
      ],
      "metadata": {
        "id": "Tv90nP7GplBt"
      }
    },
    {
      "cell_type": "code",
      "source": [
        "dis_atipicos = obtener_atipicos(df['26_TenArtDitlica'])\n",
        "df.drop(dis_atipicos, inplace=True)"
      ],
      "metadata": {
        "id": "umRnqq0hnPYE"
      },
      "execution_count": 133,
      "outputs": []
    },
    {
      "cell_type": "markdown",
      "source": [
        "##### Edad\n",
        "La edad es una variable demográfica fundamental que cuantifica el tiempo de vida de un individuo, expresado en años cumplidos. En el ámbito de la salud, es considerada el principal factor de riesgo no modificable para la mayoría de las enfermedades crónicas. El envejecimiento es un proceso biológico natural que conlleva cambios fisiológicos progresivos en el organismo, como el aumento de la rigidez arterial, la alteración del metabolismo y cambios en la composición corporal."
      ],
      "metadata": {
        "id": "DMBGEjKv7IX4"
      }
    },
    {
      "cell_type": "code",
      "source": [
        "df= df[df['EDAD (Años cumplidos)'] >= 18].copy()"
      ],
      "metadata": {
        "id": "yv5Oa6e97Xhv"
      },
      "execution_count": 122,
      "outputs": []
    },
    {
      "cell_type": "markdown",
      "source": [
        "Durante el análisis de la variable \"edad\", se identificó la presencia de registros correspondientes a niños y adolescentes en el conjunto de datos. Dado que la evaluación de indicadores clave como el Índice de Masa Corporal (IMC) y el riesgo cardiovascular se realiza con metodologías y umbrales completamente distintos en la población pediátrica —generalmente basados en percentiles de crecimiento por edad y sexo—, su inclusión en este análisis, enfocado en adultos, introduciría inconsistencias y podría llevar a conclusiones erróneas. Por lo tanto, para garantizar la homogeneidad de la muestra y la validez de los criterios de evaluación, se ha decidido excluir del dataset a todos los individuos menores de 18 años."
      ],
      "metadata": {
        "id": "rImEw4bf7sPg"
      }
    },
    {
      "cell_type": "code",
      "source": [
        "edad_atipicos = obtener_atipicos(df['EDAD (Años cumplidos)'])\n",
        "df.drop(edad_atipicos, inplace=True)"
      ],
      "metadata": {
        "id": "5r9IbIDW8sHb"
      },
      "execution_count": 134,
      "outputs": []
    },
    {
      "cell_type": "markdown",
      "source": [
        "Finalmente, se completó la depuración de la variable \"edad\" eliminando los valores atípicos superiores. Se excluyeron todos los registros con edades consideradas fisiológicamente inverosímiles o que representaban claros errores de entrada de datos. Este paso finaliza la conformación de una cohorte demográficamente coherente y robusta para el análisis posterior."
      ],
      "metadata": {
        "id": "Vfrdd4Yw8RSd"
      }
    },
    {
      "cell_type": "markdown",
      "source": [
        "##### Altura\n",
        "La altura, o estatura, es una medida antropométrica fundamental que representa la distancia vertical desde la base de los pies hasta la parte superior de la cabeza de una persona. Generalmente se expresa en centímetros o metros. Es un componente esencial en la evaluación del crecimiento y desarrollo, y además, es crucial para el cálculo de otros indicadores de salud, como el Índice de Masa Corporal (IMC), la superficie corporal y algunas fórmulas para dosificación de medicamentos. Es un indicador relativamente estable en la vida adulta, pero puede verse afectada por factores genéticos, nutricionales y de salud a lo largo de la vida. En el contexto de este estudio, la altura es vital para contextualizar el peso y comprender mejor la composición corporal de los individuos, influyendo indirectamente en la evaluación de riesgos cardiovasculares y metabólicos al ser un factor determinante en el IMC."
      ],
      "metadata": {
        "id": "6o0luyjQsFVV"
      }
    },
    {
      "cell_type": "code",
      "source": [
        "def filtrar_alturas_sospechosas(df, columna_talla='24_Talla', columna_peso='23_Peso', min_talla=100, max_talla=220):\n",
        "    sospechosas = df[(df[columna_talla] < min_talla) | (df[columna_talla] > max_talla)]\n",
        "    print(sospechosas[[columna_talla, columna_peso]])\n",
        "    print(sospechosas[[columna_talla, columna_peso]].size)\n",
        "    return sospechosas, sospechosas[[columna_talla, columna_peso]].size"
      ],
      "metadata": {
        "id": "Op7_xvN_y_AV"
      },
      "execution_count": 111,
      "outputs": []
    },
    {
      "cell_type": "code",
      "source": [
        "alturas_sospechosas_df, tamaño = filtrar_alturas_sospechosas(df)\n",
        "df = df.drop(alturas_sospechosas_df.index)"
      ],
      "metadata": {
        "colab": {
          "base_uri": "https://localhost:8080/"
        },
        "id": "M7Sv1egtzB6G",
        "outputId": "653a05e6-94d2-4b96-b5c1-cddc6b8b6cd3"
      },
      "execution_count": 112,
      "outputs": [
        {
          "output_type": "stream",
          "name": "stdout",
          "text": [
            "         24_Talla  23_Peso\n",
            "117083       10.0    25.00\n",
            "117089       10.0     0.26\n",
            "117092       10.0    25.00\n",
            "117478       25.0     0.25\n",
            "117580       25.0     0.25\n",
            "...           ...      ...\n",
            "2296051      10.0    25.00\n",
            "2311213      20.0    25.00\n",
            "2311224      10.0    25.00\n",
            "2770729     259.0    68.00\n",
            "2778839      10.0    60.00\n",
            "\n",
            "[435 rows x 2 columns]\n",
            "870\n"
          ]
        }
      ]
    },
    {
      "cell_type": "markdown",
      "source": [
        "Como parte del preprocesamiento de los datos, se ha realizado un tratamiento de valores atípicos (outliers) en la variable de altura. Se identificaron registros que exceden los límites fisiológicos conocidos, así como valores en el extremo inferior de la distribución. Con el objetivo de reducir la varianza no representativa y mitigar el posible sesgo en análisis futuros, se ha aplicado un criterio de exclusión basado en un umbral fijo. Se han conservado únicamente las observaciones dentro del intervalo [100 cm, 220 cm], eliminando aquellas que caen fuera de este rango."
      ],
      "metadata": {
        "id": "jkfsDkvJs3Wv"
      }
    },
    {
      "cell_type": "markdown",
      "source": [
        "##### Peso\n",
        "El peso corporal es una medida antropométrica que cuantifica la masa total de un individuo y se expresa comúnmente en kilogramos. Es uno de los indicadores de salud más básicos y monitoreados, ya que, junto con la altura, es un componente indispensable para calcular el Índice de Masa Corporal (IMC). Por sí solo, el peso es un pilar en la evaluación del estado nutricional y la clasificación del estado ponderal (bajo peso, peso normal, sobrepeso, obesidad). El exceso de peso, en particular, es un factor de riesgo primario para el desarrollo de una amplia gama de enfermedades crónicas, incluyendo la hipertensión arterial, la diabetes tipo 2 y las enfermedades cardiovasculares."
      ],
      "metadata": {
        "id": "Wsvh1km21xE0"
      }
    },
    {
      "cell_type": "code",
      "source": [
        "peso_atipicos = obtener_atipicos(df['23_Peso'])\n",
        "df.drop(peso_atipicos, inplace=True)"
      ],
      "metadata": {
        "id": "SUo5AXt4171t"
      },
      "execution_count": 138,
      "outputs": []
    },
    {
      "cell_type": "markdown",
      "source": [
        "Para la variable de peso, el procedimiento de limpieza fue más sencillo. Al no encontrar errores sistemáticos, la única acción requerida fue la eliminación de sus valores atípicos (outliers) para reducir el ruido en el dataset."
      ],
      "metadata": {
        "id": "YxFeGHjY2hCk"
      }
    },
    {
      "cell_type": "markdown",
      "source": [
        "##### Índice de Masa Corporal (IMC)\n",
        "\n",
        "El Índice de Masa Corporal (IMC) es una medida antropométrica que relaciona el peso de una persona con su estatura, proporcionando una estimación de su grasa corporal. Se calcula dividiendo el peso en kilogramos por el cuadrado de la altura en metros ( kg/m ²). Su simplicidad y bajo costo lo han convertido en la herramienta de cribado más utilizada a nivel mundial para clasificar el estado ponderal de los adultos en categorías como bajo peso, peso normal, sobrepeso y obesidad."
      ],
      "metadata": {
        "id": "sQnRsIiEqm7D"
      }
    },
    {
      "cell_type": "code",
      "source": [
        "df[\"Indice Masa Corporal = Peso/talla Al Cuadrado\"] = df[\"23_Peso\"] / ((df[\"24_Talla\"] / 100) ** 2)"
      ],
      "metadata": {
        "id": "M7GSbfFCrftV"
      },
      "execution_count": 160,
      "outputs": []
    },
    {
      "cell_type": "markdown",
      "source": [
        "Dado que la variable de altura fue modificada durante la limpieza de datos, el primer paso lógico fue recalcular el Índice de Masa Corporal (IMC) para todo el dataset. Esto asegura que los valores del IMC sean consistentes con las alturas corregidas"
      ],
      "metadata": {
        "id": "oZPKyaU65LYR"
      }
    },
    {
      "cell_type": "code",
      "source": [
        "imc_atipicos = obtener_atipicos(df['Indice Masa Corporal = Peso/talla Al Cuadrado'])\n",
        "df.drop(imc_atipicos, inplace=True)"
      ],
      "metadata": {
        "id": "fqopq9Ak5VIS"
      },
      "execution_count": 165,
      "outputs": []
    },
    {
      "cell_type": "markdown",
      "source": [
        "Por último, se completó la limpieza de datos eliminando los valores atípicos de la variable IMC. Se excluyeron los registros con valores fuera del rango esperado para evitar la influencia desproporcionada de estos puntos en los resultados. Con el dataset ahora depurado de errores y valores extremos en sus variables clave, se puede proceder con el análisis estadístico."
      ],
      "metadata": {
        "id": "bEkr8j0nDMdo"
      }
    },
    {
      "cell_type": "markdown",
      "source": [
        "#### Discretas"
      ],
      "metadata": {
        "id": "CAnEhXDNrDFO"
      }
    },
    {
      "cell_type": "markdown",
      "source": [
        "##### Caracterización Étnica\n",
        "La pertenencia étnica es una variable demográfica clave que permite contextualizar los resultados de salud al considerar factores socioculturales, genéticos y ambientales. En este dataset, la información sobre la etnia no se presenta en una única columna, sino que ha sido codificada mediante un conjunto de variables binarias (formato one-hot encoding), donde un valor de '1' indica la pertenencia a un grupo específico y '0' la no pertenencia.\n",
        "Las categorías étnicas registradas son:\n",
        "- Indígena\n",
        "- Negro, Mulato, Afrocolombiano o Afrodescendiente\n",
        "- ROM (Gitano)\n",
        "- Raizal del Archipiélago de San Andrés, Providencia y Santa Catalina\n",
        "- Palenquero de San Basilio\n",
        "- Otro"
      ],
      "metadata": {
        "id": "ZFcJaU1vGcE-"
      }
    },
    {
      "cell_type": "code",
      "source": [
        "cols_etnia = [\n",
        "    \"11_CodEtnia_Indigena\",\n",
        "    \"11_CodEtnia_Negro\",\n",
        "    \"11_CodEtnia_Otro\",\n",
        "    \"11_CodEtnia_Palenquero de San Basilio\",\n",
        "    \"11_CodEtnia_ROM (Gitano)\",\n",
        "    \"11_CodEtnia_Raizal\"\n",
        "]\n",
        "df[\"conteo_etnias\"] = df[cols_etnia].sum(axis=1)\n",
        "df[\"conteo_etnias\"].value_counts()\n",
        "df[\"conteo_etnias\"] = df[cols_etnia].sum(axis=1)\n",
        "df[\"conteo_etnias\"].value_counts()"
      ],
      "metadata": {
        "colab": {
          "base_uri": "https://localhost:8080/",
          "height": 147
        },
        "id": "DiHDwfe-GmIj",
        "outputId": "2d782414-b388-4f47-b6c1-2288476c11fa"
      },
      "execution_count": 169,
      "outputs": [
        {
          "output_type": "execute_result",
          "data": {
            "text/plain": [
              "conteo_etnias\n",
              "1.00    2210584\n",
              "Name: count, dtype: int64"
            ],
            "text/html": [
              "<div>\n",
              "<style scoped>\n",
              "    .dataframe tbody tr th:only-of-type {\n",
              "        vertical-align: middle;\n",
              "    }\n",
              "\n",
              "    .dataframe tbody tr th {\n",
              "        vertical-align: top;\n",
              "    }\n",
              "\n",
              "    .dataframe thead th {\n",
              "        text-align: right;\n",
              "    }\n",
              "</style>\n",
              "<table border=\"1\" class=\"dataframe\">\n",
              "  <thead>\n",
              "    <tr style=\"text-align: right;\">\n",
              "      <th></th>\n",
              "      <th>count</th>\n",
              "    </tr>\n",
              "    <tr>\n",
              "      <th>conteo_etnias</th>\n",
              "      <th></th>\n",
              "    </tr>\n",
              "  </thead>\n",
              "  <tbody>\n",
              "    <tr>\n",
              "      <th>1.00</th>\n",
              "      <td>2210584</td>\n",
              "    </tr>\n",
              "  </tbody>\n",
              "</table>\n",
              "</div><br><label><b>dtype:</b> int64</label>"
            ]
          },
          "metadata": {},
          "execution_count": 169
        }
      ]
    },
    {
      "cell_type": "code",
      "source": [
        "df = df.drop(columns=[\"conteo_etnias\"])"
      ],
      "metadata": {
        "id": "Q0dZzbt-G0d0"
      },
      "execution_count": 170,
      "outputs": []
    },
    {
      "cell_type": "markdown",
      "source": [
        "Considerando que las variables de etnia ya están presentadas en formato one-hot encoding, el único paso de validación requerido fue confirmar la exclusividad de la categoría para cada individuo. Se verificó que cada registro tuviera asignada una única etnia, asegurando la coherencia y la integridad del conjunto de datos antes de proceder con el análisis."
      ],
      "metadata": {
        "id": "2pNX8UmHHQ-i"
      }
    },
    {
      "cell_type": "code",
      "source": [
        "import pandas as pd\n",
        "\n",
        "df[\"Etnia_Minorias\"] = df[[\n",
        "    \"11_CodEtnia_Raizal\",\n",
        "    \"11_CodEtnia_ROM (Gitano)\",\n",
        "    \"11_CodEtnia_Palenquero de San Basilio\"\n",
        "]].max(axis=1)\n",
        "\n",
        "df[\"Etnia_Otro\"] = df[\"11_CodEtnia_Otro\"]\n",
        "df[\"Etnia_Negro\"] = df[\"11_CodEtnia_Negro\"]\n",
        "df[\"Etnia_Indigena\"] = df[\"11_CodEtnia_Indigena\"]\n",
        "\n",
        "df = df.drop(columns=[\n",
        "    \"11_CodEtnia_Raizal\",\n",
        "    \"11_CodEtnia_ROM (Gitano)\",\n",
        "    \"11_CodEtnia_Palenquero de San Basilio\",\n",
        "    \"11_CodEtnia_Otro\",\n",
        "    \"11_CodEtnia_Negro\",\n",
        "    \"11_CodEtnia_Indigena\"\n",
        "])\n"
      ],
      "metadata": {
        "id": "YJUBpUt6I2Nq"
      },
      "execution_count": 171,
      "outputs": []
    },
    {
      "cell_type": "markdown",
      "source": [
        "Tras analizar la distribución de frecuencias de las categorías étnicas, se observó que los grupos Raizal, ROM (Gitano) y Palenquero de San Basilio tenían una representación muy baja en el conjunto de datos. Analizar categorías con un número tan reducido de observaciones puede introducir ruido estadístico y limitar la potencia de los modelos. Por lo tanto, con el fin de simplificar la estructura de los datos y crear categorías más robustas, se ha decidido agrupar estas tres etnias en una única variable denominada \"Etnia_Minorías\". Esta consolidación permite un análisis más estable y significativo, manteniendo de forma independiente las categorías con mayor prevalencia."
      ],
      "metadata": {
        "id": "A4unmruMJaFu"
      }
    },
    {
      "cell_type": "markdown",
      "source": [
        "#####  Caracterización por Régimen\n",
        "El régimen de afiliación al Sistema General de Seguridad Social en Salud (SGSSS) en Colombia es un indicador socioeconómico clave que refleja la capacidad de pago y el tipo de vinculación de un individuo al sistema sanitario."
      ],
      "metadata": {
        "id": "Tjv7nPVOLn7S"
      }
    },
    {
      "cell_type": "code",
      "source": [
        "cols_regimen = [\n",
        "    \"9_Regimen_CONTRIBUTIVO\",\n",
        "    \"9_Regimen_NO ASEGURADO\",\n",
        "    \"9_Regimen_SUBSIDIADO\"\n",
        "]\n",
        "\n",
        "df = df.drop(columns=cols_regimen)"
      ],
      "metadata": {
        "id": "y9HMtIiKLbOe"
      },
      "execution_count": null,
      "outputs": []
    },
    {
      "cell_type": "markdown",
      "source": [
        "El análisis de la variable de régimen de afiliación reveló un desequilibrio extremo: el 98% de los individuos pertenece al régimen subsidiado. Debido a esta distribución tan sesgada, la variable carece de valor informativo y no contribuye al análisis. En consecuencia, se ha procedido a su eliminación del conjunto de datos."
      ],
      "metadata": {
        "id": "2Vfj-SpMMRc4"
      }
    },
    {
      "cell_type": "markdown",
      "source": [
        "##### Prevalencia de Hipertensión Arterial Diagnosticada\n",
        "Más allá de las cifras de presión arterial obtenidas en una única medición, la existencia de un diagnóstico clínico previo de hipertensión arterial (HTA) es un indicador robusto de la carga de enfermedad crónica en una población. Un diagnóstico formal implica que la condición ha sido identificada y, teóricamente, debería estar siendo gestionada, lo que tiene profundas implicaciones para el pronóstico del paciente."
      ],
      "metadata": {
        "id": "Gl5hde1YNTbW"
      }
    },
    {
      "cell_type": "code",
      "source": [
        "df = df.drop(columns=['18_DxHTA_NO'])"
      ],
      "metadata": {
        "id": "LQx7u-zhNivc"
      },
      "execution_count": null,
      "outputs": []
    },
    {
      "cell_type": "markdown",
      "source": [
        "Se ha eliminado la columna 18_DxHTA_NO por ser redundante. La información sobre la ausencia de diagnóstico de hipertensión se infiere directamente del valor '0' en la columna 18_DxHTA_SI, por lo que no es necesario mantener ambas."
      ],
      "metadata": {
        "id": "Ws3st34SNouz"
      }
    },
    {
      "cell_type": "markdown",
      "source": [
        "##### Pertenencia a Endosalud\n",
        "El programa \"Endosalud\" es una iniciativa de gestión de riesgo en salud, enfocada en el seguimiento y control de pacientes con enfermedades crónicas, principalmente endocrinas y metabólicas como la diabetes y la hipertensión arterial."
      ],
      "metadata": {
        "id": "MDMMTE2QOtnd"
      }
    },
    {
      "cell_type": "code",
      "source": [
        "df = df.drop(columns=['ENDOSALUD_SI'])"
      ],
      "metadata": {
        "id": "LZI5t7zbPBay"
      },
      "execution_count": 176,
      "outputs": []
    },
    {
      "cell_type": "markdown",
      "source": [
        "La variable ENDOSALUD_SI ha sido eliminada del conjunto de datos debido a un desequilibrio extremo en su distribución. Dado que el 99% de la población pertenece a esta categoría, la variable carece de valor predictivo y no contribuye al análisis, por lo que su eliminación es un paso necesario en la optimización del dataset."
      ],
      "metadata": {
        "id": "1qBtNWUFPG6-"
      }
    },
    {
      "cell_type": "markdown",
      "source": [
        "##### Análisis de Variables Adicionales de Riesgo y Comorbilidad\n",
        "A continuación, se describen un conjunto de variables binarias que representan características demográficas, diagnósticos de comorbilidades clave, uso de tratamientos farmacológicos y la etiología de enfermedades asociadas.\n",
        "\n",
        "**Variable de Sexo**\n",
        "\n",
        "Es una variable binaria que toma el valor de 1 si el paciente es de sexo femenino y 0 si es masculino. El sexo es un factor demográfico no modificable fundamental en la evaluación del riesgo cardiovascular, ya que existen diferencias conocidas en la prevalencia, presentación y pronóstico de las enfermedades cardiovasculares entre hombres y mujeres.\n",
        "\n",
        "**Uso de Medicamentos Antihipertensivos**\n",
        "\n",
        "Estas variables indican si el paciente está recibiendo tratamiento farmacológico específico para la hipertensión, lo cual es un fuerte indicador de que la HTA es una condición gestionada activamente.\n",
        "- 36_RcbeIECA_SI: Registra el uso de inhibidores de la enzima convertidora de angiotensina (IECA), una de las familias de medicamentos de primera línea para el tratamiento de la hipertensión y la protección cardiovascular.\n",
        "- 37_RcbeARA2_SI: Registra el uso de antagonistas de los receptores de angiotensina II (ARA II), otra clase de fármacos esenciales con un propósito similar a los IECA.\n",
        "\n",
        "**Diagnóstico de Diabetes Mellitus (DM)**\n",
        "\n",
        "Esta variable binaria indica la presencia de un diagnóstico formal de diabetes mellitus. La diabetes es uno de los factores de riesgo cardiovascular más potentes, ya que acelera el proceso de aterosclerosis y frecuentemente coexiste con la hipertensión y la enfermedad renal.\n",
        "\n",
        "**Etiología de la Enfermedad Renal Crónica (ERC)**\n",
        "\n",
        "Este conjunto de variables describe la causa subyacente de la Enfermedad Renal Crónica (ERC), una condición estrechamente ligada al riesgo cardiovascular.\n",
        "- 22_EtiologiaERC_HTA: Indica que la ERC del paciente fue causada principalmente por la hipertensión arterial.\n",
        "- 22_EtiologiaERC_DM: Señala que la diabetes mellitus es la causa de la enfermedad renal.\n",
        "- 22_EtiologiaERC_HTA-DM: Indica que la etiología es una combinación de hipertensión y diabetes, lo que a menudo representa un perfil de mayor riesgo.\n",
        "Tras la revisión de este último grupo de variables, se concluye que todas ellas son de alto valor para el análisis.\n",
        "\n",
        "Dado que tienen un potencial claro como factores de riesgo, presentan un balance de clases aceptable, no tienen valores faltantes y ya se encuentran en un formato binario (0/1) listo para ser utilizado, se decide mantenerlas en el conjunto de datos sin necesidad de realizar limpieza o transformaciones adicionales."
      ],
      "metadata": {
        "id": "FHUee4jWPoyC"
      }
    },
    {
      "cell_type": "markdown",
      "source": [
        "### Análisis univariado"
      ],
      "metadata": {
        "id": "3TGvBpNFWhM-"
      }
    },
    {
      "cell_type": "markdown",
      "source": [
        "#### Continuas"
      ],
      "metadata": {
        "id": "KmHcj_1pakDa"
      }
    },
    {
      "cell_type": "markdown",
      "source": [
        "##### Presión arterial sistólica"
      ],
      "metadata": {
        "id": "v89Ml9RKWqj4"
      }
    },
    {
      "cell_type": "code",
      "source": [
        "import seaborn as sns\n",
        "import matplotlib.pyplot as plt\n",
        "plt.figure(figsize=(8,6))\n",
        "sns.boxplot(data=df[['25_TenArtSis']])\n",
        "plt.title('Boxplot de Presión Arterial Sistólica')\n",
        "plt.ylabel('mmHg')\n",
        "plt.show()\n"
      ],
      "metadata": {
        "colab": {
          "base_uri": "https://localhost:8080/",
          "height": 0
        },
        "id": "8idhZBBxWjjb",
        "outputId": "55b99521-5b2d-4a36-c1f6-553426f6f2bc"
      },
      "execution_count": 5,
      "outputs": [
        {
          "output_type": "display_data",
          "data": {
            "text/plain": [
              "<Figure size 800x600 with 1 Axes>"
            ],
            "image/png": "[encoded data removed]"
          },
          "metadata": {}
        }
      ]
    },
    {
      "cell_type": "code",
      "source": [
        "import seaborn as sns\n",
        "import matplotlib.pyplot as plt\n",
        "import numpy as np\n",
        "from scipy import stats\n",
        "\n",
        "min_val = df['25_TenArtSis'].min()\n",
        "max_val = df['25_TenArtSis'].max()\n",
        "mode_val = stats.mode(df['25_TenArtSis'], keepdims=True)[0][0]  # moda\n",
        "\n",
        "plt.figure(figsize=(8,6))\n",
        "sns.histplot(df['25_TenArtSis'], bins=30, kde=True, color=\"skyblue\")\n",
        "\n",
        "plt.axvline(min_val, color='green', linestyle='--', linewidth=2, label=f'Mínimo: {min_val}')\n",
        "plt.axvline(max_val, color='red', linestyle='--', linewidth=2, label=f'Máximo: {max_val}')\n",
        "plt.axvline(mode_val, color='orange', linestyle='-', linewidth=2, label=f'Moda: {mode_val}')\n",
        "\n",
        "plt.title('Distribución de Presión Arterial Sistólica')\n",
        "plt.xlabel('mmHg')\n",
        "plt.ylabel('Frecuencia')\n",
        "plt.legend()\n",
        "plt.show()\n"
      ],
      "metadata": {
        "colab": {
          "base_uri": "https://localhost:8080/",
          "height": 0
        },
        "id": "7H-qtl58XB6d",
        "outputId": "f1624de1-2142-4787-a7fe-5eb80dbf8b20"
      },
      "execution_count": 9,
      "outputs": [
        {
          "output_type": "display_data",
          "data": {
            "text/plain": [
              "<Figure size 800x600 with 1 Axes>"
            ],
            "image/png": "[encoded data removed]"
          },
          "metadata": {}
        }
      ]
    },
    {
      "cell_type": "markdown",
      "source": [
        "Las imágenes presentadas ilustran la distribución de la presión arterial sistólica. Se observa un rango de datos que oscila entre 0 y 270 mmHg. Es evidente que los valores extremos de esta distribución son anómalos, probablemente derivados de errores en la recolección de datos, y requerirán un proceso de depuración. Además, se identifica una notable presencia de valores atípicos que también deberán ser tratados. No obstante, es importante destacar que la gran mayoría de las mediciones se agrupan en un intervalo normal. El valor de presión sistólica más común en la población estudiada es de 120 mmHg, un indicador de un estado de presión arterial estable aunque prenseta un pequeño sesgo hacia valores más grandes."
      ],
      "metadata": {
        "id": "b1hx7RBuXgbp"
      }
    },
    {
      "cell_type": "markdown",
      "source": [
        "##### Presión arterial diastólica"
      ],
      "metadata": {
        "id": "3nHdvPcKaTem"
      }
    },
    {
      "cell_type": "code",
      "source": [
        "import seaborn as sns\n",
        "import matplotlib.pyplot as plt\n",
        "plt.figure(figsize=(8,6))\n",
        "sns.boxplot(data=df[['26_TenArtDitlica']])\n",
        "plt.title('Boxplot de Presión Arterial Diastólica')\n",
        "plt.ylabel('mmHg')\n",
        "plt.show()"
      ],
      "metadata": {
        "colab": {
          "base_uri": "https://localhost:8080/",
          "height": 0
        },
        "id": "u02pDUSzbWTA",
        "outputId": "a821724f-3022-460d-b167-12cc2e04e88a"
      },
      "execution_count": 10,
      "outputs": [
        {
          "output_type": "display_data",
          "data": {
            "text/plain": [
              "<Figure size 800x600 with 1 Axes>"
            ],
            "image/png": "[encoded data removed]"
          },
          "metadata": {}
        }
      ]
    },
    {
      "cell_type": "code",
      "source": [
        "import seaborn as sns\n",
        "import matplotlib.pyplot as plt\n",
        "import numpy as np\n",
        "from scipy import stats\n",
        "\n",
        "min_val = df['26_TenArtDitlica'].min()\n",
        "max_val = df['26_TenArtDitlica'].max()\n",
        "mode_val = stats.mode(df['26_TenArtDitlica'], keepdims=True)[0][0]  # moda\n",
        "\n",
        "plt.figure(figsize=(8,6))\n",
        "sns.histplot(df['26_TenArtDitlica'], bins=30, kde=True, color=\"skyblue\")\n",
        "\n",
        "plt.axvline(min_val, color='green', linestyle='--', linewidth=2, label=f'Mínimo: {min_val}')\n",
        "plt.axvline(max_val, color='red', linestyle='--', linewidth=2, label=f'Máximo: {max_val}')\n",
        "plt.axvline(mode_val, color='orange', linestyle='-', linewidth=2, label=f'Moda: {mode_val}')\n",
        "\n",
        "plt.title('Distribución de Presión Arterial Diastólica')\n",
        "plt.xlabel('mmHg')\n",
        "plt.ylabel('Frecuencia')\n",
        "plt.legend()\n",
        "plt.show()\n"
      ],
      "metadata": {
        "colab": {
          "base_uri": "https://localhost:8080/",
          "height": 0
        },
        "id": "C5eRq4uSblq4",
        "outputId": "4b2c18ff-e28a-40cc-d1bf-37a4add1d582"
      },
      "execution_count": 12,
      "outputs": [
        {
          "output_type": "display_data",
          "data": {
            "text/plain": [
              "<Figure size 800x600 with 1 Axes>"
            ],
            "image/png": "[encoded data removed]"
          },
          "metadata": {}
        }
      ]
    },
    {
      "cell_type": "markdown",
      "source": [
        "La distribución de la variable de presión diastólica exhibe una fuerte correspondencia con la de la presión sistólica. El rango de datos crudos (0-191 mmHg) evidencia la presencia de errores de registro en sus límites, así como una alta incidencia de valores atípicos que deberán ser gestionados en el preprocesamiento. La moda de la distribución se encuentra en 80 mmHg, lo cual representa un punto de referencia de normalidad clínica. Un aspecto distintivo de esta distribución es su asimetría, con un sesgo negativo o una inclinación hacia valores más bajos."
      ],
      "metadata": {
        "id": "q-KnHAYAcBw5"
      }
    },
    {
      "cell_type": "markdown",
      "source": [
        "##### Índice de Masa Corporal (IMC)"
      ],
      "metadata": {
        "id": "9BojvT12dlwX"
      }
    },
    {
      "cell_type": "code",
      "source": [
        "import seaborn as sns\n",
        "import matplotlib.pyplot as plt\n",
        "plt.figure(figsize=(8,6))\n",
        "sns.boxplot(data=df[['Indice Masa Corporal = Peso/talla Al Cuadrado']])\n",
        "plt.title('Boxplot del Indice de Masa Corporal')\n",
        "plt.ylabel('mmHg')\n",
        "plt.show()"
      ],
      "metadata": {
        "colab": {
          "base_uri": "https://localhost:8080/",
          "height": 545
        },
        "id": "T65Ib9qjd6Z2",
        "outputId": "7ed50b53-0b17-493c-90d6-bcead627fe5f"
      },
      "execution_count": 14,
      "outputs": [
        {
          "output_type": "display_data",
          "data": {
            "text/plain": [
              "<Figure size 800x600 with 1 Axes>"
            ],
            "image/png": "[encoded data removed]"
          },
          "metadata": {}
        }
      ]
    },
    {
      "cell_type": "code",
      "source": [
        "import seaborn as sns\n",
        "import matplotlib.pyplot as plt\n",
        "import numpy as np\n",
        "from scipy import stats\n",
        "\n",
        "min_val = df['Indice Masa Corporal = Peso/talla Al Cuadrado'].min()\n",
        "max_val = df['Indice Masa Corporal = Peso/talla Al Cuadrado'].max()\n",
        "mode_val = stats.mode(df['Indice Masa Corporal = Peso/talla Al Cuadrado'], keepdims=True)[0][0]  # moda\n",
        "\n",
        "plt.figure(figsize=(8,6))\n",
        "sns.histplot(df['Indice Masa Corporal = Peso/talla Al Cuadrado'], bins=30, kde=True, color=\"skyblue\")\n",
        "\n",
        "plt.axvline(min_val, color='green', linestyle='--', linewidth=2, label=f'Mínimo: {min_val}')\n",
        "plt.axvline(max_val, color='red', linestyle='--', linewidth=2, label=f'Máximo: {max_val}')\n",
        "plt.axvline(mode_val, color='orange', linestyle='-', linewidth=2, label=f'Moda: {mode_val}')\n",
        "\n",
        "plt.title('Distribución del Indice Masa Corporal')\n",
        "plt.xlabel('mmHg')\n",
        "plt.ylabel('Frecuencia')\n",
        "plt.legend()\n",
        "plt.show()"
      ],
      "metadata": {
        "colab": {
          "base_uri": "https://localhost:8080/",
          "height": 565
        },
        "id": "sNij0D83eRo0",
        "outputId": "d8aecfcd-4f59-4365-a6df-cc908f475d59"
      },
      "execution_count": 16,
      "outputs": [
        {
          "output_type": "display_data",
          "data": {
            "text/plain": [
              "<Figure size 800x600 with 1 Axes>"
            ],
            "image/png": "[encoded data removed]"
          },
          "metadata": {}
        }
      ]
    },
    {
      "cell_type": "markdown",
      "source": [
        "### Análisis Bivariado"
      ],
      "metadata": {
        "id": "tUKVOESQRAb9"
      }
    },
    {
      "cell_type": "markdown",
      "source": [
        "### Preparación"
      ],
      "metadata": {
        "id": "YbSkcH4RWCzH"
      }
    },
    {
      "cell_type": "markdown",
      "source": [
        "En este caso identifico que hay muchas variables categóricas que estan almancenadas como int64 y float64, es significa que para cada uno de los valores estoy usando 8 bytes, sin embargo solo necesito representar unos y ceros, por lo que una opción es pasar las variables binarias a booleanos, que solo ocupan 1 byte por valor."
      ],
      "metadata": {
        "id": "P65iv8V4anYc"
      }
    },
    {
      "cell_type": "code",
      "source": [
        "bin_cols = [col for col in df.columns if set(df[col].unique()) <= {0, 1}]\n",
        "df[bin_cols] = df[bin_cols].astype('bool')"
      ],
      "metadata": {
        "id": "z0aZFVsYaisR"
      },
      "execution_count": null,
      "outputs": []
    },
    {
      "cell_type": "code",
      "source": [
        "df.dtypes"
      ],
      "metadata": {
        "colab": {
          "base_uri": "https://localhost:8080/",
          "height": 993
        },
        "id": "ehWYQzbfa_Dc",
        "outputId": "4f9cd826-02fa-4c0b-b7c9-e08141d96903"
      },
      "execution_count": null,
      "outputs": [
        {
          "output_type": "execute_result",
          "data": {
            "text/plain": [
              "11_CodEtnia_Indigena                                bool\n",
              "11_CodEtnia_Negro                                   bool\n",
              "11_CodEtnia_Otro                                    bool\n",
              "11_CodEtnia_Palenquero de San Basilio               bool\n",
              "11_CodEtnia_ROM (Gitano)                            bool\n",
              "11_CodEtnia_Raizal                                  bool\n",
              "ENDOSALUD_SI                                        bool\n",
              "Indice Masa Corporal = Peso/talla Al Cuadrado    float64\n",
              "24_Talla                                         float64\n",
              "23_Peso                                          float64\n",
              "25_TenArtSis                                     float64\n",
              "26_TenArtDitlica                                 float64\n",
              "36_RcbeIECA_SI                                      bool\n",
              "37_RcbeARA2_SI                                      bool\n",
              "22_EtiologiaERC_HTA-DM                              bool\n",
              "EDAD (Años cumplidos)                            float64\n",
              "8_Sexo_F                                            bool\n",
              "9_Regimen_CONTRIBUTIVO                              bool\n",
              "9_Regimen_NO ASEGURADO                              bool\n",
              "9_Regimen_SUBSIDIADO                                bool\n",
              "18_DxHTA_SI                                         bool\n",
              "18_DxHTA_NO                                         bool\n",
              "22_EtiologiaERC_HTA                                 bool\n",
              "22_EtiologiaERC_DM                                  bool\n",
              "CLASIFICACION FINAL DEL RIESGO_ALTO                 bool\n",
              "CLASIFICACION FINAL DEL RIESGO_BAJO                 bool\n",
              "CLASIFICACION FINAL DEL RIESGO_MODERADO             bool\n",
              "20_DxDM_SI                                          bool\n",
              "CLASIFICACION FINAL DEL RIESGO_MUY ALTO             bool\n",
              "dtype: object"
            ],
            "text/html": [
              "<div>\n",
              "<style scoped>\n",
              "    .dataframe tbody tr th:only-of-type {\n",
              "        vertical-align: middle;\n",
              "    }\n",
              "\n",
              "    .dataframe tbody tr th {\n",
              "        vertical-align: top;\n",
              "    }\n",
              "\n",
              "    .dataframe thead th {\n",
              "        text-align: right;\n",
              "    }\n",
              "</style>\n",
              "<table border=\"1\" class=\"dataframe\">\n",
              "  <thead>\n",
              "    <tr style=\"text-align: right;\">\n",
              "      <th></th>\n",
              "      <th>0</th>\n",
              "    </tr>\n",
              "  </thead>\n",
              "  <tbody>\n",
              "    <tr>\n",
              "      <th>11_CodEtnia_Indigena</th>\n",
              "      <td>bool</td>\n",
              "    </tr>\n",
              "    <tr>\n",
              "      <th>11_CodEtnia_Negro</th>\n",
              "      <td>bool</td>\n",
              "    </tr>\n",
              "    <tr>\n",
              "      <th>11_CodEtnia_Otro</th>\n",
              "      <td>bool</td>\n",
              "    </tr>\n",
              "    <tr>\n",
              "      <th>11_CodEtnia_Palenquero de San Basilio</th>\n",
              "      <td>bool</td>\n",
              "    </tr>\n",
              "    <tr>\n",
              "      <th>11_CodEtnia_ROM (Gitano)</th>\n",
              "      <td>bool</td>\n",
              "    </tr>\n",
              "    <tr>\n",
              "      <th>11_CodEtnia_Raizal</th>\n",
              "      <td>bool</td>\n",
              "    </tr>\n",
              "    <tr>\n",
              "      <th>ENDOSALUD_SI</th>\n",
              "      <td>bool</td>\n",
              "    </tr>\n",
              "    <tr>\n",
              "      <th>Indice Masa Corporal = Peso/talla Al Cuadrado</th>\n",
              "      <td>float64</td>\n",
              "    </tr>\n",
              "    <tr>\n",
              "      <th>24_Talla</th>\n",
              "      <td>float64</td>\n",
              "    </tr>\n",
              "    <tr>\n",
              "      <th>23_Peso</th>\n",
              "      <td>float64</td>\n",
              "    </tr>\n",
              "    <tr>\n",
              "      <th>25_TenArtSis</th>\n",
              "      <td>float64</td>\n",
              "    </tr>\n",
              "    <tr>\n",
              "      <th>26_TenArtDitlica</th>\n",
              "      <td>float64</td>\n",
              "    </tr>\n",
              "    <tr>\n",
              "      <th>36_RcbeIECA_SI</th>\n",
              "      <td>bool</td>\n",
              "    </tr>\n",
              "    <tr>\n",
              "      <th>37_RcbeARA2_SI</th>\n",
              "      <td>bool</td>\n",
              "    </tr>\n",
              "    <tr>\n",
              "      <th>22_EtiologiaERC_HTA-DM</th>\n",
              "      <td>bool</td>\n",
              "    </tr>\n",
              "    <tr>\n",
              "      <th>EDAD (Años cumplidos)</th>\n",
              "      <td>float64</td>\n",
              "    </tr>\n",
              "    <tr>\n",
              "      <th>8_Sexo_F</th>\n",
              "      <td>bool</td>\n",
              "    </tr>\n",
              "    <tr>\n",
              "      <th>9_Regimen_CONTRIBUTIVO</th>\n",
              "      <td>bool</td>\n",
              "    </tr>\n",
              "    <tr>\n",
              "      <th>9_Regimen_NO ASEGURADO</th>\n",
              "      <td>bool</td>\n",
              "    </tr>\n",
              "    <tr>\n",
              "      <th>9_Regimen_SUBSIDIADO</th>\n",
              "      <td>bool</td>\n",
              "    </tr>\n",
              "    <tr>\n",
              "      <th>18_DxHTA_SI</th>\n",
              "      <td>bool</td>\n",
              "    </tr>\n",
              "    <tr>\n",
              "      <th>18_DxHTA_NO</th>\n",
              "      <td>bool</td>\n",
              "    </tr>\n",
              "    <tr>\n",
              "      <th>22_EtiologiaERC_HTA</th>\n",
              "      <td>bool</td>\n",
              "    </tr>\n",
              "    <tr>\n",
              "      <th>22_EtiologiaERC_DM</th>\n",
              "      <td>bool</td>\n",
              "    </tr>\n",
              "    <tr>\n",
              "      <th>CLASIFICACION FINAL DEL RIESGO_ALTO</th>\n",
              "      <td>bool</td>\n",
              "    </tr>\n",
              "    <tr>\n",
              "      <th>CLASIFICACION FINAL DEL RIESGO_BAJO</th>\n",
              "      <td>bool</td>\n",
              "    </tr>\n",
              "    <tr>\n",
              "      <th>CLASIFICACION FINAL DEL RIESGO_MODERADO</th>\n",
              "      <td>bool</td>\n",
              "    </tr>\n",
              "    <tr>\n",
              "      <th>20_DxDM_SI</th>\n",
              "      <td>bool</td>\n",
              "    </tr>\n",
              "    <tr>\n",
              "      <th>CLASIFICACION FINAL DEL RIESGO_MUY ALTO</th>\n",
              "      <td>bool</td>\n",
              "    </tr>\n",
              "  </tbody>\n",
              "</table>\n",
              "</div><br><label><b>dtype:</b> object</label>"
            ]
          },
          "metadata": {},
          "execution_count": 32
        }
      ]
    }
  ]
}